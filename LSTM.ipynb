{
  "nbformat": 4,
  "nbformat_minor": 0,
  "metadata": {
    "colab": {
      "provenance": [],
      "collapsed_sections": [],
      "toc_visible": true
    },
    "kernelspec": {
      "name": "python3",
      "display_name": "Python 3"
    },
    "language_info": {
      "name": "python"
    }
  },
  "cells": [
    {
      "cell_type": "markdown",
      "source": [
        "Nama : Rondi <br>\n",
        "ID Kegiatan : 2487820 <br>\n",
        "AI GAME\n",
        "\n",
        "\n"
      ],
      "metadata": {
        "id": "jMiCrbtvQACJ"
      }
    },
    {
      "cell_type": "markdown",
      "source": [
        "#Instalasi Library"
      ],
      "metadata": {
        "id": "QrY9yGN9aACp"
      }
    },
    {
      "cell_type": "code",
      "source": [
        "!pip install varname"
      ],
      "metadata": {
        "colab": {
          "base_uri": "https://localhost:8080/"
        },
        "id": "aEScsvHnUhaD",
        "outputId": "e3e403d4-1802-4fc6-8796-48aae8687aa5"
      },
      "execution_count": null,
      "outputs": [
        {
          "output_type": "stream",
          "name": "stdout",
          "text": [
            "Looking in indexes: https://pypi.org/simple, https://us-python.pkg.dev/colab-wheels/public/simple/\n",
            "Collecting varname\n",
            "  Downloading varname-0.9.0-py3-none-any.whl (22 kB)\n",
            "Collecting executing<0.10,>=0.9\n",
            "  Downloading executing-0.9.1-py2.py3-none-any.whl (16 kB)\n",
            "Installing collected packages: executing, varname\n",
            "Successfully installed executing-0.9.1 varname-0.9.0\n"
          ]
        }
      ]
    },
    {
      "cell_type": "code",
      "source": [
        "!pip install keras_metrics"
      ],
      "metadata": {
        "colab": {
          "base_uri": "https://localhost:8080/"
        },
        "id": "8pMJPZRRVAwm",
        "outputId": "24656df2-1b9a-4172-a7aa-2e34dde92a27"
      },
      "execution_count": null,
      "outputs": [
        {
          "output_type": "stream",
          "name": "stdout",
          "text": [
            "Looking in indexes: https://pypi.org/simple, https://us-python.pkg.dev/colab-wheels/public/simple/\n",
            "Collecting keras_metrics\n",
            "  Downloading keras_metrics-1.1.0-py2.py3-none-any.whl (5.6 kB)\n",
            "Requirement already satisfied: Keras>=2.1.5 in /usr/local/lib/python3.7/dist-packages (from keras_metrics) (2.8.0)\n",
            "Installing collected packages: keras-metrics\n",
            "Successfully installed keras-metrics-1.1.0\n"
          ]
        }
      ]
    },
    {
      "cell_type": "code",
      "source": [
        "!pip install h5py"
      ],
      "metadata": {
        "colab": {
          "base_uri": "https://localhost:8080/"
        },
        "id": "xz196KTMVMP0",
        "outputId": "fcc4f6c1-ab02-45f8-e3a1-dc39e6af59a3"
      },
      "execution_count": null,
      "outputs": [
        {
          "output_type": "stream",
          "name": "stdout",
          "text": [
            "Looking in indexes: https://pypi.org/simple, https://us-python.pkg.dev/colab-wheels/public/simple/\n",
            "Requirement already satisfied: h5py in /usr/local/lib/python3.7/dist-packages (3.1.0)\n",
            "Requirement already satisfied: cached-property in /usr/local/lib/python3.7/dist-packages (from h5py) (1.5.2)\n",
            "Requirement already satisfied: numpy>=1.14.5 in /usr/local/lib/python3.7/dist-packages (from h5py) (1.21.6)\n"
          ]
        }
      ]
    },
    {
      "cell_type": "markdown",
      "source": [
        "#Import Library"
      ],
      "metadata": {
        "id": "7mTZH3PQaGsq"
      }
    },
    {
      "cell_type": "code",
      "source": [
        "import nltk\n",
        "import pandas as pd\n",
        "import re\n",
        "import tensorflow as tf\n",
        "import time\n",
        "import multiprocessing\n",
        "import io\n",
        "import gensim \n",
        "import numpy as np \n",
        "import matplotlib.pyplot as plt \n",
        "import pickle\n",
        "import keras \n",
        "from sklearn.feature_extraction.text import TfidfVectorizer,CountVectorizer\n",
        "import warnings\n",
        "warnings.filterwarnings(\"ignore\") # Untuk Mengabaikan Warnings"
      ],
      "metadata": {
        "id": "CTx18kj5VSb6"
      },
      "execution_count": null,
      "outputs": []
    },
    {
      "cell_type": "markdown",
      "source": [
        "# Load Data"
      ],
      "metadata": {
        "id": "DYGoGcP7aKyI"
      }
    },
    {
      "cell_type": "code",
      "execution_count": 3,
      "metadata": {
        "colab": {
          "base_uri": "https://localhost:8080/"
        },
        "id": "4YKRfeVkSb7F",
        "outputId": "467c279c-e777-4b79-e7f2-b0fbf92a0452"
      },
      "outputs": [
        {
          "output_type": "stream",
          "name": "stdout",
          "text": [
            "Mounted at /content/drive\n"
          ]
        }
      ],
      "source": [
        "# CONNECT GOOGLE DRIVE\n",
        "from google.colab import drive\n",
        "drive.mount('/content/drive')"
      ]
    },
    {
      "cell_type": "code",
      "source": [
        "import pandas as pd #PANDAS DATA SCIENCE\n",
        "df = pd.read_csv(\"/content/drive/My Drive/Dataset/dataset_tv.csv\")\n",
        "\n",
        "df.head(5)"
      ],
      "metadata": {
        "colab": {
          "base_uri": "https://localhost:8080/",
          "height": 206
        },
        "id": "koiErZGZTVLt",
        "outputId": "b7ff448b-9cae-47f3-df3e-25a67c18ce51"
      },
      "execution_count": 4,
      "outputs": [
        {
          "output_type": "execute_result",
          "data": {
            "text/plain": [
              "   Id Sentiment           Acara_TV  Jumlah Retweet  \\\n",
              "0   1  positive  HitamPutihTransTV              12   \n",
              "1   2   neutral  HitamPutihTransTV               6   \n",
              "2   3  positive  HitamPutihTransTV               9   \n",
              "3   4  positive  HitamPutihTransTV               2   \n",
              "4   5  positive  HitamPutihTransTV               1   \n",
              "\n",
              "                                          Text_Tweet  \n",
              "0  This black and white television program is ver...  \n",
              "1                                      just the same  \n",
              "2  Ada nih di trans7 hitam putih, dia dpt penghar...  \n",
              "3        selamat ya mas @adietaufan masuk hitamputih  \n",
              "4                  Asiknya nonton Hitam Putih Trans7  "
            ],
            "text/html": [
              "\n",
              "  <div id=\"df-2f6c4c2d-0804-4379-ac1a-f8d4703f3198\">\n",
              "    <div class=\"colab-df-container\">\n",
              "      <div>\n",
              "<style scoped>\n",
              "    .dataframe tbody tr th:only-of-type {\n",
              "        vertical-align: middle;\n",
              "    }\n",
              "\n",
              "    .dataframe tbody tr th {\n",
              "        vertical-align: top;\n",
              "    }\n",
              "\n",
              "    .dataframe thead th {\n",
              "        text-align: right;\n",
              "    }\n",
              "</style>\n",
              "<table border=\"1\" class=\"dataframe\">\n",
              "  <thead>\n",
              "    <tr style=\"text-align: right;\">\n",
              "      <th></th>\n",
              "      <th>Id</th>\n",
              "      <th>Sentiment</th>\n",
              "      <th>Acara_TV</th>\n",
              "      <th>Jumlah Retweet</th>\n",
              "      <th>Text_Tweet</th>\n",
              "    </tr>\n",
              "  </thead>\n",
              "  <tbody>\n",
              "    <tr>\n",
              "      <th>0</th>\n",
              "      <td>1</td>\n",
              "      <td>positive</td>\n",
              "      <td>HitamPutihTransTV</td>\n",
              "      <td>12</td>\n",
              "      <td>This black and white television program is ver...</td>\n",
              "    </tr>\n",
              "    <tr>\n",
              "      <th>1</th>\n",
              "      <td>2</td>\n",
              "      <td>neutral</td>\n",
              "      <td>HitamPutihTransTV</td>\n",
              "      <td>6</td>\n",
              "      <td>just the same</td>\n",
              "    </tr>\n",
              "    <tr>\n",
              "      <th>2</th>\n",
              "      <td>3</td>\n",
              "      <td>positive</td>\n",
              "      <td>HitamPutihTransTV</td>\n",
              "      <td>9</td>\n",
              "      <td>Ada nih di trans7 hitam putih, dia dpt penghar...</td>\n",
              "    </tr>\n",
              "    <tr>\n",
              "      <th>3</th>\n",
              "      <td>4</td>\n",
              "      <td>positive</td>\n",
              "      <td>HitamPutihTransTV</td>\n",
              "      <td>2</td>\n",
              "      <td>selamat ya mas @adietaufan masuk hitamputih</td>\n",
              "    </tr>\n",
              "    <tr>\n",
              "      <th>4</th>\n",
              "      <td>5</td>\n",
              "      <td>positive</td>\n",
              "      <td>HitamPutihTransTV</td>\n",
              "      <td>1</td>\n",
              "      <td>Asiknya nonton Hitam Putih Trans7</td>\n",
              "    </tr>\n",
              "  </tbody>\n",
              "</table>\n",
              "</div>\n",
              "      <button class=\"colab-df-convert\" onclick=\"convertToInteractive('df-2f6c4c2d-0804-4379-ac1a-f8d4703f3198')\"\n",
              "              title=\"Convert this dataframe to an interactive table.\"\n",
              "              style=\"display:none;\">\n",
              "        \n",
              "  <svg xmlns=\"http://www.w3.org/2000/svg\" height=\"24px\"viewBox=\"0 0 24 24\"\n",
              "       width=\"24px\">\n",
              "    <path d=\"M0 0h24v24H0V0z\" fill=\"none\"/>\n",
              "    <path d=\"M18.56 5.44l.94 2.06.94-2.06 2.06-.94-2.06-.94-.94-2.06-.94 2.06-2.06.94zm-11 1L8.5 8.5l.94-2.06 2.06-.94-2.06-.94L8.5 2.5l-.94 2.06-2.06.94zm10 10l.94 2.06.94-2.06 2.06-.94-2.06-.94-.94-2.06-.94 2.06-2.06.94z\"/><path d=\"M17.41 7.96l-1.37-1.37c-.4-.4-.92-.59-1.43-.59-.52 0-1.04.2-1.43.59L10.3 9.45l-7.72 7.72c-.78.78-.78 2.05 0 2.83L4 21.41c.39.39.9.59 1.41.59.51 0 1.02-.2 1.41-.59l7.78-7.78 2.81-2.81c.8-.78.8-2.07 0-2.86zM5.41 20L4 18.59l7.72-7.72 1.47 1.35L5.41 20z\"/>\n",
              "  </svg>\n",
              "      </button>\n",
              "      \n",
              "  <style>\n",
              "    .colab-df-container {\n",
              "      display:flex;\n",
              "      flex-wrap:wrap;\n",
              "      gap: 12px;\n",
              "    }\n",
              "\n",
              "    .colab-df-convert {\n",
              "      background-color: #E8F0FE;\n",
              "      border: none;\n",
              "      border-radius: 50%;\n",
              "      cursor: pointer;\n",
              "      display: none;\n",
              "      fill: #1967D2;\n",
              "      height: 32px;\n",
              "      padding: 0 0 0 0;\n",
              "      width: 32px;\n",
              "    }\n",
              "\n",
              "    .colab-df-convert:hover {\n",
              "      background-color: #E2EBFA;\n",
              "      box-shadow: 0px 1px 2px rgba(60, 64, 67, 0.3), 0px 1px 3px 1px rgba(60, 64, 67, 0.15);\n",
              "      fill: #174EA6;\n",
              "    }\n",
              "\n",
              "    [theme=dark] .colab-df-convert {\n",
              "      background-color: #3B4455;\n",
              "      fill: #D2E3FC;\n",
              "    }\n",
              "\n",
              "    [theme=dark] .colab-df-convert:hover {\n",
              "      background-color: #434B5C;\n",
              "      box-shadow: 0px 1px 3px 1px rgba(0, 0, 0, 0.15);\n",
              "      filter: drop-shadow(0px 1px 2px rgba(0, 0, 0, 0.3));\n",
              "      fill: #FFFFFF;\n",
              "    }\n",
              "  </style>\n",
              "\n",
              "      <script>\n",
              "        const buttonEl =\n",
              "          document.querySelector('#df-2f6c4c2d-0804-4379-ac1a-f8d4703f3198 button.colab-df-convert');\n",
              "        buttonEl.style.display =\n",
              "          google.colab.kernel.accessAllowed ? 'block' : 'none';\n",
              "\n",
              "        async function convertToInteractive(key) {\n",
              "          const element = document.querySelector('#df-2f6c4c2d-0804-4379-ac1a-f8d4703f3198');\n",
              "          const dataTable =\n",
              "            await google.colab.kernel.invokeFunction('convertToInteractive',\n",
              "                                                     [key], {});\n",
              "          if (!dataTable) return;\n",
              "\n",
              "          const docLinkHtml = 'Like what you see? Visit the ' +\n",
              "            '<a target=\"_blank\" href=https://colab.research.google.com/notebooks/data_table.ipynb>data table notebook</a>'\n",
              "            + ' to learn more about interactive tables.';\n",
              "          element.innerHTML = '';\n",
              "          dataTable['output_type'] = 'display_data';\n",
              "          await google.colab.output.renderOutput(dataTable, element);\n",
              "          const docLink = document.createElement('div');\n",
              "          docLink.innerHTML = docLinkHtml;\n",
              "          element.appendChild(docLink);\n",
              "        }\n",
              "      </script>\n",
              "    </div>\n",
              "  </div>\n",
              "  "
            ]
          },
          "metadata": {},
          "execution_count": 4
        }
      ]
    },
    {
      "cell_type": "code",
      "source": [
        "df.dropna(axis=0, subset=['Text_Tweet','Sentiment'], inplace=True)\n",
        "df.head()"
      ],
      "metadata": {
        "colab": {
          "base_uri": "https://localhost:8080/",
          "height": 206
        },
        "id": "97zDeB_Yf5sL",
        "outputId": "87052033-7b72-43ff-d0a1-a37326cfc2e8"
      },
      "execution_count": null,
      "outputs": [
        {
          "output_type": "execute_result",
          "data": {
            "text/plain": [
              "   Id Sentiment           Acara_TV  Jumlah Retweet  \\\n",
              "0   1  positive  HitamPutihTransTV              12   \n",
              "1   2   neutral  HitamPutihTransTV               6   \n",
              "2   3  positive  HitamPutihTransTV               9   \n",
              "3   4  positive  HitamPutihTransTV               2   \n",
              "4   5  positive  HitamPutihTransTV               1   \n",
              "\n",
              "                                          Text_Tweet  \n",
              "0  This black and white television program is ver...  \n",
              "1                                      just the same  \n",
              "2  Ada nih di trans7 hitam putih, dia dpt penghar...  \n",
              "3        selamat ya mas @adietaufan masuk hitamputih  \n",
              "4                  Asiknya nonton Hitam Putih Trans7  "
            ],
            "text/html": [
              "\n",
              "  <div id=\"df-14315420-2b3d-4423-a592-1221c6b92848\">\n",
              "    <div class=\"colab-df-container\">\n",
              "      <div>\n",
              "<style scoped>\n",
              "    .dataframe tbody tr th:only-of-type {\n",
              "        vertical-align: middle;\n",
              "    }\n",
              "\n",
              "    .dataframe tbody tr th {\n",
              "        vertical-align: top;\n",
              "    }\n",
              "\n",
              "    .dataframe thead th {\n",
              "        text-align: right;\n",
              "    }\n",
              "</style>\n",
              "<table border=\"1\" class=\"dataframe\">\n",
              "  <thead>\n",
              "    <tr style=\"text-align: right;\">\n",
              "      <th></th>\n",
              "      <th>Id</th>\n",
              "      <th>Sentiment</th>\n",
              "      <th>Acara_TV</th>\n",
              "      <th>Jumlah Retweet</th>\n",
              "      <th>Text_Tweet</th>\n",
              "    </tr>\n",
              "  </thead>\n",
              "  <tbody>\n",
              "    <tr>\n",
              "      <th>0</th>\n",
              "      <td>1</td>\n",
              "      <td>positive</td>\n",
              "      <td>HitamPutihTransTV</td>\n",
              "      <td>12</td>\n",
              "      <td>This black and white television program is ver...</td>\n",
              "    </tr>\n",
              "    <tr>\n",
              "      <th>1</th>\n",
              "      <td>2</td>\n",
              "      <td>neutral</td>\n",
              "      <td>HitamPutihTransTV</td>\n",
              "      <td>6</td>\n",
              "      <td>just the same</td>\n",
              "    </tr>\n",
              "    <tr>\n",
              "      <th>2</th>\n",
              "      <td>3</td>\n",
              "      <td>positive</td>\n",
              "      <td>HitamPutihTransTV</td>\n",
              "      <td>9</td>\n",
              "      <td>Ada nih di trans7 hitam putih, dia dpt penghar...</td>\n",
              "    </tr>\n",
              "    <tr>\n",
              "      <th>3</th>\n",
              "      <td>4</td>\n",
              "      <td>positive</td>\n",
              "      <td>HitamPutihTransTV</td>\n",
              "      <td>2</td>\n",
              "      <td>selamat ya mas @adietaufan masuk hitamputih</td>\n",
              "    </tr>\n",
              "    <tr>\n",
              "      <th>4</th>\n",
              "      <td>5</td>\n",
              "      <td>positive</td>\n",
              "      <td>HitamPutihTransTV</td>\n",
              "      <td>1</td>\n",
              "      <td>Asiknya nonton Hitam Putih Trans7</td>\n",
              "    </tr>\n",
              "  </tbody>\n",
              "</table>\n",
              "</div>\n",
              "      <button class=\"colab-df-convert\" onclick=\"convertToInteractive('df-14315420-2b3d-4423-a592-1221c6b92848')\"\n",
              "              title=\"Convert this dataframe to an interactive table.\"\n",
              "              style=\"display:none;\">\n",
              "        \n",
              "  <svg xmlns=\"http://www.w3.org/2000/svg\" height=\"24px\"viewBox=\"0 0 24 24\"\n",
              "       width=\"24px\">\n",
              "    <path d=\"M0 0h24v24H0V0z\" fill=\"none\"/>\n",
              "    <path d=\"M18.56 5.44l.94 2.06.94-2.06 2.06-.94-2.06-.94-.94-2.06-.94 2.06-2.06.94zm-11 1L8.5 8.5l.94-2.06 2.06-.94-2.06-.94L8.5 2.5l-.94 2.06-2.06.94zm10 10l.94 2.06.94-2.06 2.06-.94-2.06-.94-.94-2.06-.94 2.06-2.06.94z\"/><path d=\"M17.41 7.96l-1.37-1.37c-.4-.4-.92-.59-1.43-.59-.52 0-1.04.2-1.43.59L10.3 9.45l-7.72 7.72c-.78.78-.78 2.05 0 2.83L4 21.41c.39.39.9.59 1.41.59.51 0 1.02-.2 1.41-.59l7.78-7.78 2.81-2.81c.8-.78.8-2.07 0-2.86zM5.41 20L4 18.59l7.72-7.72 1.47 1.35L5.41 20z\"/>\n",
              "  </svg>\n",
              "      </button>\n",
              "      \n",
              "  <style>\n",
              "    .colab-df-container {\n",
              "      display:flex;\n",
              "      flex-wrap:wrap;\n",
              "      gap: 12px;\n",
              "    }\n",
              "\n",
              "    .colab-df-convert {\n",
              "      background-color: #E8F0FE;\n",
              "      border: none;\n",
              "      border-radius: 50%;\n",
              "      cursor: pointer;\n",
              "      display: none;\n",
              "      fill: #1967D2;\n",
              "      height: 32px;\n",
              "      padding: 0 0 0 0;\n",
              "      width: 32px;\n",
              "    }\n",
              "\n",
              "    .colab-df-convert:hover {\n",
              "      background-color: #E2EBFA;\n",
              "      box-shadow: 0px 1px 2px rgba(60, 64, 67, 0.3), 0px 1px 3px 1px rgba(60, 64, 67, 0.15);\n",
              "      fill: #174EA6;\n",
              "    }\n",
              "\n",
              "    [theme=dark] .colab-df-convert {\n",
              "      background-color: #3B4455;\n",
              "      fill: #D2E3FC;\n",
              "    }\n",
              "\n",
              "    [theme=dark] .colab-df-convert:hover {\n",
              "      background-color: #434B5C;\n",
              "      box-shadow: 0px 1px 3px 1px rgba(0, 0, 0, 0.15);\n",
              "      filter: drop-shadow(0px 1px 2px rgba(0, 0, 0, 0.3));\n",
              "      fill: #FFFFFF;\n",
              "    }\n",
              "  </style>\n",
              "\n",
              "      <script>\n",
              "        const buttonEl =\n",
              "          document.querySelector('#df-14315420-2b3d-4423-a592-1221c6b92848 button.colab-df-convert');\n",
              "        buttonEl.style.display =\n",
              "          google.colab.kernel.accessAllowed ? 'block' : 'none';\n",
              "\n",
              "        async function convertToInteractive(key) {\n",
              "          const element = document.querySelector('#df-14315420-2b3d-4423-a592-1221c6b92848');\n",
              "          const dataTable =\n",
              "            await google.colab.kernel.invokeFunction('convertToInteractive',\n",
              "                                                     [key], {});\n",
              "          if (!dataTable) return;\n",
              "\n",
              "          const docLinkHtml = 'Like what you see? Visit the ' +\n",
              "            '<a target=\"_blank\" href=https://colab.research.google.com/notebooks/data_table.ipynb>data table notebook</a>'\n",
              "            + ' to learn more about interactive tables.';\n",
              "          element.innerHTML = '';\n",
              "          dataTable['output_type'] = 'display_data';\n",
              "          await google.colab.output.renderOutput(dataTable, element);\n",
              "          const docLink = document.createElement('div');\n",
              "          docLink.innerHTML = docLinkHtml;\n",
              "          element.appendChild(docLink);\n",
              "        }\n",
              "      </script>\n",
              "    </div>\n",
              "  </div>\n",
              "  "
            ]
          },
          "metadata": {},
          "execution_count": 75
        }
      ]
    },
    {
      "cell_type": "code",
      "source": [
        "#Pengubahan dataset kedalam bentuk DATA FRAME\n",
        "dframe=pd.read_csv(\"/content/drive/My Drive/Dataset/dataset_tv.csv\")\n",
        "print(dframe[:4])\n",
        "#print(dframe)"
      ],
      "metadata": {
        "colab": {
          "base_uri": "https://localhost:8080/"
        },
        "id": "upGWUVHvV0uV",
        "outputId": "3650c01e-b740-44f9-d449-cbbe02dc43ae"
      },
      "execution_count": null,
      "outputs": [
        {
          "output_type": "stream",
          "name": "stdout",
          "text": [
            "   Id Sentiment           Acara_TV  Jumlah Retweet  \\\n",
            "0   1  positive  HitamPutihTransTV              12   \n",
            "1   2   neutral  HitamPutihTransTV               6   \n",
            "2   3  positive  HitamPutihTransTV               9   \n",
            "3   4  positive  HitamPutihTransTV               2   \n",
            "\n",
            "                                          Text_Tweet  \n",
            "0  This black and white television program is ver...  \n",
            "1                                      just the same  \n",
            "2  Ada nih di trans7 hitam putih, dia dpt penghar...  \n",
            "3        selamat ya mas @adietaufan masuk hitamputih  \n"
          ]
        }
      ]
    },
    {
      "cell_type": "code",
      "source": [
        "#Mengambil data dari satu kolom/frame\n",
        "data_riview = dframe['Text_Tweet']\n",
        "print (data_riview[:4])"
      ],
      "metadata": {
        "colab": {
          "base_uri": "https://localhost:8080/"
        },
        "id": "rt0cy41tZm2x",
        "outputId": "f9697ff5-05ec-40b3-da84-3f91ed4c4e38"
      },
      "execution_count": null,
      "outputs": [
        {
          "output_type": "stream",
          "name": "stdout",
          "text": [
            "0    This black and white television program is ver...\n",
            "1                                        just the same\n",
            "2    Ada nih di trans7 hitam putih, dia dpt penghar...\n",
            "3          selamat ya mas @adietaufan masuk hitamputih\n",
            "Name: Text_Tweet, dtype: object\n"
          ]
        }
      ]
    },
    {
      "cell_type": "code",
      "source": [
        "from sklearn.model_selection import train_test_split\n",
        "from sklearn.feature_extraction.text import CountVectorizer\n",
        "\n",
        "vectorizer = CountVectorizer()\n",
        "\n",
        "X_train,X_test, y_train, y_test = train_test_split(df['Text_Tweet'],df['Sentiment'],train_size=0.8,random_state=42)\n",
        "X_train = vectorizer.fit_transform(X_train)\n",
        "X_test = vectorizer.transform(X_test)"
      ],
      "metadata": {
        "id": "lwn8L-l9VSV6"
      },
      "execution_count": null,
      "outputs": []
    },
    {
      "cell_type": "code",
      "source": [
        "from sklearn.naive_bayes import MultinomialNB\n",
        "\n",
        "nb = MultinomialNB() #PANGGIL MODEL NB\n",
        "nb.fit(X_train,y_train) #TRAINING DATA\n",
        "y_pred = nb.predict(X_test) #PREDIKSI DATA X_TEST"
      ],
      "metadata": {
        "id": "d0K8bYApgXo6"
      },
      "execution_count": null,
      "outputs": []
    },
    {
      "cell_type": "code",
      "source": [
        "from sklearn.metrics import confusion_matrix, classification_report, accuracy_score\n",
        "print(accuracy_score(y_pred, y_test))\n",
        "confusion_matrix(y_pred,y_test)"
      ],
      "metadata": {
        "colab": {
          "base_uri": "https://localhost:8080/"
        },
        "id": "70noYOuggwUC",
        "outputId": "adf42380-1d04-42e3-adac-c7b794fe7b1e"
      },
      "execution_count": null,
      "outputs": [
        {
          "output_type": "stream",
          "name": "stdout",
          "text": [
            "0.75\n"
          ]
        },
        {
          "output_type": "execute_result",
          "data": {
            "text/plain": [
              "array([[24,  4,  5],\n",
              "       [ 0,  4,  0],\n",
              "       [ 7,  4, 32]])"
            ]
          },
          "metadata": {},
          "execution_count": 80
        }
      ]
    },
    {
      "cell_type": "code",
      "source": [
        "X_train, X_test, y_train, Y_test = train_test_split(X,y, test_size = 0.10, random_state = 42)\n",
        "print(X_train.shape,y_train.shape)\n",
        "print(X_test.shape,y_test.shape)"
      ],
      "metadata": {
        "colab": {
          "base_uri": "https://localhost:8080/"
        },
        "id": "3iU8Dn_DhNQL",
        "outputId": "d0d4db40-6ece-4dea-afa5-cfd50b3243c5"
      },
      "execution_count": null,
      "outputs": [
        {
          "output_type": "stream",
          "name": "stdout",
          "text": [
            "(360, 250) (360, 3)\n",
            "(40, 250) (80,)\n"
          ]
        }
      ]
    },
    {
      "cell_type": "code",
      "source": [
        "df.shape"
      ],
      "metadata": {
        "colab": {
          "base_uri": "https://localhost:8080/"
        },
        "id": "LBhYUb73YHTz",
        "outputId": "d220b199-b6fb-4a97-cac1-d9bdb8e5e6d5"
      },
      "execution_count": null,
      "outputs": [
        {
          "output_type": "execute_result",
          "data": {
            "text/plain": [
              "(400, 5)"
            ]
          },
          "metadata": {},
          "execution_count": 82
        }
      ]
    },
    {
      "cell_type": "code",
      "source": [
        "df.isnull().sum()"
      ],
      "metadata": {
        "colab": {
          "base_uri": "https://localhost:8080/"
        },
        "id": "KW8GrLu5Ya-f",
        "outputId": "e461553b-65e7-45d8-d016-30a2c9d052a6"
      },
      "execution_count": null,
      "outputs": [
        {
          "output_type": "execute_result",
          "data": {
            "text/plain": [
              "Id                0\n",
              "Sentiment         0\n",
              "Acara_TV          0\n",
              "Jumlah Retweet    0\n",
              "Text_Tweet        0\n",
              "dtype: int64"
            ]
          },
          "metadata": {},
          "execution_count": 83
        }
      ]
    },
    {
      "cell_type": "code",
      "source": [
        "df.head()"
      ],
      "metadata": {
        "colab": {
          "base_uri": "https://localhost:8080/",
          "height": 206
        },
        "id": "kSP5FS4tYx4n",
        "outputId": "e1ec05aa-c402-49da-8725-11887b739077"
      },
      "execution_count": null,
      "outputs": [
        {
          "output_type": "execute_result",
          "data": {
            "text/plain": [
              "   Id Sentiment           Acara_TV  Jumlah Retweet  \\\n",
              "0   1  positive  HitamPutihTransTV              12   \n",
              "1   2   neutral  HitamPutihTransTV               6   \n",
              "2   3  positive  HitamPutihTransTV               9   \n",
              "3   4  positive  HitamPutihTransTV               2   \n",
              "4   5  positive  HitamPutihTransTV               1   \n",
              "\n",
              "                                          Text_Tweet  \n",
              "0  This black and white television program is ver...  \n",
              "1                                      just the same  \n",
              "2  Ada nih di trans7 hitam putih, dia dpt penghar...  \n",
              "3        selamat ya mas @adietaufan masuk hitamputih  \n",
              "4                  Asiknya nonton Hitam Putih Trans7  "
            ],
            "text/html": [
              "\n",
              "  <div id=\"df-df7c8288-db55-41a8-966c-e931381385a7\">\n",
              "    <div class=\"colab-df-container\">\n",
              "      <div>\n",
              "<style scoped>\n",
              "    .dataframe tbody tr th:only-of-type {\n",
              "        vertical-align: middle;\n",
              "    }\n",
              "\n",
              "    .dataframe tbody tr th {\n",
              "        vertical-align: top;\n",
              "    }\n",
              "\n",
              "    .dataframe thead th {\n",
              "        text-align: right;\n",
              "    }\n",
              "</style>\n",
              "<table border=\"1\" class=\"dataframe\">\n",
              "  <thead>\n",
              "    <tr style=\"text-align: right;\">\n",
              "      <th></th>\n",
              "      <th>Id</th>\n",
              "      <th>Sentiment</th>\n",
              "      <th>Acara_TV</th>\n",
              "      <th>Jumlah Retweet</th>\n",
              "      <th>Text_Tweet</th>\n",
              "    </tr>\n",
              "  </thead>\n",
              "  <tbody>\n",
              "    <tr>\n",
              "      <th>0</th>\n",
              "      <td>1</td>\n",
              "      <td>positive</td>\n",
              "      <td>HitamPutihTransTV</td>\n",
              "      <td>12</td>\n",
              "      <td>This black and white television program is ver...</td>\n",
              "    </tr>\n",
              "    <tr>\n",
              "      <th>1</th>\n",
              "      <td>2</td>\n",
              "      <td>neutral</td>\n",
              "      <td>HitamPutihTransTV</td>\n",
              "      <td>6</td>\n",
              "      <td>just the same</td>\n",
              "    </tr>\n",
              "    <tr>\n",
              "      <th>2</th>\n",
              "      <td>3</td>\n",
              "      <td>positive</td>\n",
              "      <td>HitamPutihTransTV</td>\n",
              "      <td>9</td>\n",
              "      <td>Ada nih di trans7 hitam putih, dia dpt penghar...</td>\n",
              "    </tr>\n",
              "    <tr>\n",
              "      <th>3</th>\n",
              "      <td>4</td>\n",
              "      <td>positive</td>\n",
              "      <td>HitamPutihTransTV</td>\n",
              "      <td>2</td>\n",
              "      <td>selamat ya mas @adietaufan masuk hitamputih</td>\n",
              "    </tr>\n",
              "    <tr>\n",
              "      <th>4</th>\n",
              "      <td>5</td>\n",
              "      <td>positive</td>\n",
              "      <td>HitamPutihTransTV</td>\n",
              "      <td>1</td>\n",
              "      <td>Asiknya nonton Hitam Putih Trans7</td>\n",
              "    </tr>\n",
              "  </tbody>\n",
              "</table>\n",
              "</div>\n",
              "      <button class=\"colab-df-convert\" onclick=\"convertToInteractive('df-df7c8288-db55-41a8-966c-e931381385a7')\"\n",
              "              title=\"Convert this dataframe to an interactive table.\"\n",
              "              style=\"display:none;\">\n",
              "        \n",
              "  <svg xmlns=\"http://www.w3.org/2000/svg\" height=\"24px\"viewBox=\"0 0 24 24\"\n",
              "       width=\"24px\">\n",
              "    <path d=\"M0 0h24v24H0V0z\" fill=\"none\"/>\n",
              "    <path d=\"M18.56 5.44l.94 2.06.94-2.06 2.06-.94-2.06-.94-.94-2.06-.94 2.06-2.06.94zm-11 1L8.5 8.5l.94-2.06 2.06-.94-2.06-.94L8.5 2.5l-.94 2.06-2.06.94zm10 10l.94 2.06.94-2.06 2.06-.94-2.06-.94-.94-2.06-.94 2.06-2.06.94z\"/><path d=\"M17.41 7.96l-1.37-1.37c-.4-.4-.92-.59-1.43-.59-.52 0-1.04.2-1.43.59L10.3 9.45l-7.72 7.72c-.78.78-.78 2.05 0 2.83L4 21.41c.39.39.9.59 1.41.59.51 0 1.02-.2 1.41-.59l7.78-7.78 2.81-2.81c.8-.78.8-2.07 0-2.86zM5.41 20L4 18.59l7.72-7.72 1.47 1.35L5.41 20z\"/>\n",
              "  </svg>\n",
              "      </button>\n",
              "      \n",
              "  <style>\n",
              "    .colab-df-container {\n",
              "      display:flex;\n",
              "      flex-wrap:wrap;\n",
              "      gap: 12px;\n",
              "    }\n",
              "\n",
              "    .colab-df-convert {\n",
              "      background-color: #E8F0FE;\n",
              "      border: none;\n",
              "      border-radius: 50%;\n",
              "      cursor: pointer;\n",
              "      display: none;\n",
              "      fill: #1967D2;\n",
              "      height: 32px;\n",
              "      padding: 0 0 0 0;\n",
              "      width: 32px;\n",
              "    }\n",
              "\n",
              "    .colab-df-convert:hover {\n",
              "      background-color: #E2EBFA;\n",
              "      box-shadow: 0px 1px 2px rgba(60, 64, 67, 0.3), 0px 1px 3px 1px rgba(60, 64, 67, 0.15);\n",
              "      fill: #174EA6;\n",
              "    }\n",
              "\n",
              "    [theme=dark] .colab-df-convert {\n",
              "      background-color: #3B4455;\n",
              "      fill: #D2E3FC;\n",
              "    }\n",
              "\n",
              "    [theme=dark] .colab-df-convert:hover {\n",
              "      background-color: #434B5C;\n",
              "      box-shadow: 0px 1px 3px 1px rgba(0, 0, 0, 0.15);\n",
              "      filter: drop-shadow(0px 1px 2px rgba(0, 0, 0, 0.3));\n",
              "      fill: #FFFFFF;\n",
              "    }\n",
              "  </style>\n",
              "\n",
              "      <script>\n",
              "        const buttonEl =\n",
              "          document.querySelector('#df-df7c8288-db55-41a8-966c-e931381385a7 button.colab-df-convert');\n",
              "        buttonEl.style.display =\n",
              "          google.colab.kernel.accessAllowed ? 'block' : 'none';\n",
              "\n",
              "        async function convertToInteractive(key) {\n",
              "          const element = document.querySelector('#df-df7c8288-db55-41a8-966c-e931381385a7');\n",
              "          const dataTable =\n",
              "            await google.colab.kernel.invokeFunction('convertToInteractive',\n",
              "                                                     [key], {});\n",
              "          if (!dataTable) return;\n",
              "\n",
              "          const docLinkHtml = 'Like what you see? Visit the ' +\n",
              "            '<a target=\"_blank\" href=https://colab.research.google.com/notebooks/data_table.ipynb>data table notebook</a>'\n",
              "            + ' to learn more about interactive tables.';\n",
              "          element.innerHTML = '';\n",
              "          dataTable['output_type'] = 'display_data';\n",
              "          await google.colab.output.renderOutput(dataTable, element);\n",
              "          const docLink = document.createElement('div');\n",
              "          docLink.innerHTML = docLinkHtml;\n",
              "          element.appendChild(docLink);\n",
              "        }\n",
              "      </script>\n",
              "    </div>\n",
              "  </div>\n",
              "  "
            ]
          },
          "metadata": {},
          "execution_count": 84
        }
      ]
    },
    {
      "cell_type": "code",
      "source": [
        "Y = pd.get_dummies(df['Sentiment']).values\n",
        "print('Shape of label tensor:', Y.shape)"
      ],
      "metadata": {
        "colab": {
          "base_uri": "https://localhost:8080/"
        },
        "id": "mxD_p5WGla4U",
        "outputId": "c1208f09-9256-401c-a453-b1ebc984e5f6"
      },
      "execution_count": null,
      "outputs": [
        {
          "output_type": "stream",
          "name": "stdout",
          "text": [
            "Shape of label tensor: (400, 3)\n"
          ]
        }
      ]
    },
    {
      "cell_type": "code",
      "source": [
        "from sklearn import svm\n",
        "from sklearn.model_selection import cross_val_score\n",
        "\n",
        "clf = svm.SVC(kernel=\"Linear\")\n"
      ],
      "metadata": {
        "id": "1uyM2z3JmjY2"
      },
      "execution_count": null,
      "outputs": []
    },
    {
      "cell_type": "code",
      "source": [
        "X_train = X_train.astype('float32') \n",
        "X_test = X_test.astype('float32')"
      ],
      "metadata": {
        "id": "YrfVYy-_jZNl"
      },
      "execution_count": null,
      "outputs": []
    },
    {
      "cell_type": "code",
      "source": [
        "df[\"Sentiment\"].value_counts()"
      ],
      "metadata": {
        "colab": {
          "base_uri": "https://localhost:8080/"
        },
        "id": "FksaxyWjrqLk",
        "outputId": "59a232ad-9031-47e3-bb10-7675dd2352a0"
      },
      "execution_count": null,
      "outputs": [
        {
          "output_type": "execute_result",
          "data": {
            "text/plain": [
              "positive    187\n",
              "negative    157\n",
              "neutral      56\n",
              "Name: Sentiment, dtype: int64"
            ]
          },
          "metadata": {},
          "execution_count": 88
        }
      ]
    },
    {
      "cell_type": "code",
      "source": [
        "df.Sentiment.value_counts().plot(kind='pie', autopct='%1.0f%%', colors=[\"red\", \"green\", \"yellow\"])"
      ],
      "metadata": {
        "colab": {
          "base_uri": "https://localhost:8080/",
          "height": 265
        },
        "id": "cRmv8lecsYkt",
        "outputId": "896c7a6d-e20b-4519-ee34-1d545eb246c3"
      },
      "execution_count": null,
      "outputs": [
        {
          "output_type": "execute_result",
          "data": {
            "text/plain": [
              "<matplotlib.axes._subplots.AxesSubplot at 0x7f0a00d2fe90>"
            ]
          },
          "metadata": {},
          "execution_count": 89
        },
        {
          "output_type": "display_data",
          "data": {
            "text/plain": [
              "<Figure size 432x288 with 1 Axes>"
            ],
            "image/png": "[encoded data removed]"
          },
          "metadata": {}
        }
      ]
    },
    {
      "cell_type": "code",
      "source": [
        "df[\"Acara_TV\"].value_counts()"
      ],
      "metadata": {
        "colab": {
          "base_uri": "https://localhost:8080/"
        },
        "id": "WrDoXRkbuMZZ",
        "outputId": "ec9e03ce-ba8e-408d-f2c6-44fd8aabd0b9"
      },
      "execution_count": null,
      "outputs": [
        {
          "output_type": "execute_result",
          "data": {
            "text/plain": [
              "HitamPutihTransTV            100\n",
              "IndonesiaLawyersClubTvOne    100\n",
              "MataNajwaMetroTV              89\n",
              "KickAndyMetroTV               77\n",
              "PagiPagiAmbyar                34\n",
              "Name: Acara_TV, dtype: int64"
            ]
          },
          "metadata": {},
          "execution_count": 29
        }
      ]
    },
    {
      "cell_type": "code",
      "source": [
        "df[\"Acara_TV\"].value_counts().plot(kind='pie', autopct='%1.0f%%')"
      ],
      "metadata": {
        "colab": {
          "base_uri": "https://localhost:8080/",
          "height": 265
        },
        "id": "z0_E6lzpvMRl",
        "outputId": "b5dc40d6-b8b5-4334-9731-503494bf4698"
      },
      "execution_count": null,
      "outputs": [
        {
          "output_type": "execute_result",
          "data": {
            "text/plain": [
              "<matplotlib.axes._subplots.AxesSubplot at 0x7f264b05eed0>"
            ]
          },
          "metadata": {},
          "execution_count": 207
        },
        {
          "output_type": "display_data",
          "data": {
            "text/plain": [
              "<Figure size 432x288 with 1 Axes>"
            ],
            "image/png": "[encoded data removed]"
          },
          "metadata": {}
        }
      ]
    },
    {
      "cell_type": "code",
      "source": [
        "#visualisasi\n",
        "import matplotlib.pyplot as plt\n",
        "import seaborn as sns\n",
        "sns.countplot(df.Sentiment, palette=['#4fb443',\"#d9b42c\", \"#de061a\"])\n",
        "plt.title(\"Sentiments Accumulations in each class\")"
      ],
      "metadata": {
        "colab": {
          "base_uri": "https://localhost:8080/",
          "height": 312
        },
        "id": "obTThJh_RDwD",
        "outputId": "c8d83bf4-e4f7-468f-e6f5-bf8f2409f18f"
      },
      "execution_count": null,
      "outputs": [
        {
          "output_type": "execute_result",
          "data": {
            "text/plain": [
              "Text(0.5, 1.0, 'Sentiments Accumulations in each class')"
            ]
          },
          "metadata": {},
          "execution_count": 206
        },
        {
          "output_type": "display_data",
          "data": {
            "text/plain": [
              "<Figure size 432x288 with 1 Axes>"
            ],
            "image/png": "[encoded data removed]"
          },
          "metadata": {
            "needs_background": "light"
          }
        }
      ]
    },
    {
      "cell_type": "code",
      "source": [
        "from sklearn.svm import SVC\n",
        "from sklearn.model_selection import train_test_split\n",
        "from sklearn.metrics import classification_report\n",
        "from sklearn.metrics import confusion_matrix\n",
        "from sklearn.model_selection import GridSearchCV, RepeatedStratifiedKFold, cross_val_score\n",
        "from sklearn.metrics import accuracy_score\n",
        "import matplotlib.pyplot as plt"
      ],
      "metadata": {
        "id": "wXant5zm3Xt2"
      },
      "execution_count": null,
      "outputs": []
    },
    {
      "cell_type": "markdown",
      "source": [
        "# Text Processing"
      ],
      "metadata": {
        "id": "rVjwifCEbFnT"
      }
    },
    {
      "cell_type": "markdown",
      "source": [
        "## Lowercase and Removing"
      ],
      "metadata": {
        "id": "W9LtMKMMbKfS"
      }
    },
    {
      "cell_type": "code",
      "source": [
        "df.Text_Tweet[0]"
      ],
      "metadata": {
        "colab": {
          "base_uri": "https://localhost:8080/",
          "height": 52
        },
        "id": "CFE10brTR8Qq",
        "outputId": "ed9d0a5f-58f5-4237-8cdd-0420ed00a969"
      },
      "execution_count": null,
      "outputs": [
        {
          "output_type": "execute_result",
          "data": {
            "text/plain": [
              "'This black and white television program is very good, and very entertaining, to accompany my daily activities, especially after work. keep working for trans tv. good luck for the future.'"
            ],
            "application/vnd.google.colaboratory.intrinsic+json": {
              "type": "string"
            }
          },
          "metadata": {},
          "execution_count": 141
        }
      ]
    },
    {
      "cell_type": "code",
      "source": [
        "import re\n",
        "txt = df.Text_Tweet[0]\n",
        "text=re.sub(\"[^a-zA-Z]\",\" \",txt) #mengganti setiap karakter selain huruf, dengan spasi\n",
        "text=text.lower()"
      ],
      "metadata": {
        "id": "BmNrPSbXacYz"
      },
      "execution_count": null,
      "outputs": []
    },
    {
      "cell_type": "code",
      "source": [
        "text"
      ],
      "metadata": {
        "colab": {
          "base_uri": "https://localhost:8080/",
          "height": 52
        },
        "id": "rA3SCvnwa8uC",
        "outputId": "6a9c7d70-b875-4397-a8ad-b2c071e81d70"
      },
      "execution_count": null,
      "outputs": [
        {
          "output_type": "execute_result",
          "data": {
            "text/plain": [
              "'this black and white television program is very good  and very entertaining  to accompany my daily activities  especially after work  keep working for trans tv  good luck for the future '"
            ],
            "application/vnd.google.colaboratory.intrinsic+json": {
              "type": "string"
            }
          },
          "metadata": {},
          "execution_count": 143
        }
      ]
    },
    {
      "cell_type": "markdown",
      "source": [
        "## Tokenizing & Stopwords"
      ],
      "metadata": {
        "id": "q2z53hxBbsHi"
      }
    },
    {
      "cell_type": "code",
      "source": [
        "import nltk\n",
        "nltk.download('punkt')"
      ],
      "metadata": {
        "colab": {
          "base_uri": "https://localhost:8080/"
        },
        "id": "RzPmzoo0b_EC",
        "outputId": "9b6df2ec-dd82-4e50-ccc1-21d29e537097"
      },
      "execution_count": null,
      "outputs": [
        {
          "output_type": "stream",
          "name": "stderr",
          "text": [
            "[nltk_data] Downloading package punkt to /root/nltk_data...\n",
            "[nltk_data]   Package punkt is already up-to-date!\n"
          ]
        },
        {
          "output_type": "execute_result",
          "data": {
            "text/plain": [
              "True"
            ]
          },
          "metadata": {},
          "execution_count": 144
        }
      ]
    },
    {
      "cell_type": "code",
      "source": [
        "nltk.download('stopwords')"
      ],
      "metadata": {
        "colab": {
          "base_uri": "https://localhost:8080/"
        },
        "id": "BRC2f0WdfnSr",
        "outputId": "fcdfc7ce-f676-4454-82c9-0b3d52b55883"
      },
      "execution_count": null,
      "outputs": [
        {
          "output_type": "stream",
          "name": "stderr",
          "text": [
            "[nltk_data] Downloading package stopwords to /root/nltk_data...\n",
            "[nltk_data]   Package stopwords is already up-to-date!\n"
          ]
        },
        {
          "output_type": "execute_result",
          "data": {
            "text/plain": [
              "True"
            ]
          },
          "metadata": {},
          "execution_count": 145
        }
      ]
    },
    {
      "cell_type": "code",
      "source": [
        "import nltk\n",
        "\n",
        "from nltk.corpus import stopwords \n",
        "text=nltk.word_tokenize(text) # pisahkan kata dengan word_tokenize"
      ],
      "metadata": {
        "id": "-h30v3tVcEzV"
      },
      "execution_count": null,
      "outputs": []
    },
    {
      "cell_type": "code",
      "source": [
        "text = [w for w in text if not w in stopwords.words('english')]"
      ],
      "metadata": {
        "id": "HXAoEZ_ff9zS"
      },
      "execution_count": null,
      "outputs": []
    },
    {
      "cell_type": "code",
      "source": [
        "len(text)"
      ],
      "metadata": {
        "colab": {
          "base_uri": "https://localhost:8080/"
        },
        "id": "oW4dCE_RcHhW",
        "outputId": "ec633a90-d5b6-4bd0-ff9e-0788b78ceb78"
      },
      "execution_count": null,
      "outputs": [
        {
          "output_type": "execute_result",
          "data": {
            "text/plain": [
              "18"
            ]
          },
          "metadata": {},
          "execution_count": 148
        }
      ]
    },
    {
      "cell_type": "code",
      "source": [
        "text"
      ],
      "metadata": {
        "colab": {
          "base_uri": "https://localhost:8080/"
        },
        "id": "BBEHPGUDcLop",
        "outputId": "e315e2c7-b1ef-4c2f-fc6b-99777a67baa3"
      },
      "execution_count": null,
      "outputs": [
        {
          "output_type": "execute_result",
          "data": {
            "text/plain": [
              "['black',\n",
              " 'white',\n",
              " 'television',\n",
              " 'program',\n",
              " 'good',\n",
              " 'entertaining',\n",
              " 'accompany',\n",
              " 'daily',\n",
              " 'activities',\n",
              " 'especially',\n",
              " 'work',\n",
              " 'keep',\n",
              " 'working',\n",
              " 'trans',\n",
              " 'tv',\n",
              " 'good',\n",
              " 'luck',\n",
              " 'future']"
            ]
          },
          "metadata": {},
          "execution_count": 149
        }
      ]
    },
    {
      "cell_type": "markdown",
      "source": [
        "## Lematization"
      ],
      "metadata": {
        "id": "w-LZu_lygNK2"
      }
    },
    {
      "cell_type": "code",
      "source": [
        "nltk.download('wordnet')"
      ],
      "metadata": {
        "id": "Kl3S5TCydDOB",
        "colab": {
          "base_uri": "https://localhost:8080/"
        },
        "outputId": "fb7b0672-0f12-44e7-d488-3ee21ef32f34"
      },
      "execution_count": null,
      "outputs": [
        {
          "output_type": "stream",
          "name": "stderr",
          "text": [
            "[nltk_data] Downloading package wordnet to /root/nltk_data...\n",
            "[nltk_data]   Package wordnet is already up-to-date!\n"
          ]
        },
        {
          "output_type": "execute_result",
          "data": {
            "text/plain": [
              "True"
            ]
          },
          "metadata": {},
          "execution_count": 150
        }
      ]
    },
    {
      "cell_type": "code",
      "source": [
        "nltk.download('omw-1.4')"
      ],
      "metadata": {
        "colab": {
          "base_uri": "https://localhost:8080/"
        },
        "id": "155uxT09tqr3",
        "outputId": "4c215651-9964-4679-e442-56585be8cf62"
      },
      "execution_count": null,
      "outputs": [
        {
          "output_type": "stream",
          "name": "stderr",
          "text": [
            "[nltk_data] Downloading package omw-1.4 to /root/nltk_data...\n",
            "[nltk_data]   Package omw-1.4 is already up-to-date!\n"
          ]
        },
        {
          "output_type": "execute_result",
          "data": {
            "text/plain": [
              "True"
            ]
          },
          "metadata": {},
          "execution_count": 151
        }
      ]
    },
    {
      "cell_type": "code",
      "source": [
        "import nltk as nlp\n",
        "lemma=nlp.WordNetLemmatizer()\n",
        "text=[lemma.lemmatize(i) for i in text]\n",
        "text=\" \".join(text)\n",
        "text"
      ],
      "metadata": {
        "colab": {
          "base_uri": "https://localhost:8080/",
          "height": 52
        },
        "id": "KynQmM63tEPJ",
        "outputId": "f4095beb-0f1e-4e03-f27d-d1ac3da45b22"
      },
      "execution_count": null,
      "outputs": [
        {
          "output_type": "execute_result",
          "data": {
            "text/plain": [
              "'black white television program good entertaining accompany daily activity especially work keep working trans tv good luck future'"
            ],
            "application/vnd.google.colaboratory.intrinsic+json": {
              "type": "string"
            }
          },
          "metadata": {},
          "execution_count": 152
        }
      ]
    },
    {
      "cell_type": "code",
      "source": [
        "text_list=[]\n",
        "for i in df.Text_Tweet:\n",
        "    text=re.sub(\"[^a-zA-Z]\",\n",
        "                \" \",\n",
        "                i)\n",
        "    text=text.lower()\n",
        "    text=nltk.word_tokenize(text)\n",
        "    text = [w for w in text if not w in stopwords.words('english')]\n",
        "    lemma=nlp.WordNetLemmatizer()\n",
        "    text=[lemma.lemmatize(word) for word in text]\n",
        "    text=\" \".join(text)\n",
        "    text_list.append(text)"
      ],
      "metadata": {
        "id": "oTygt5t0t2-J"
      },
      "execution_count": null,
      "outputs": []
    },
    {
      "cell_type": "code",
      "source": [
        "text_list"
      ],
      "metadata": {
        "colab": {
          "base_uri": "https://localhost:8080/"
        },
        "id": "uH1Eblskt_56",
        "outputId": "2b73df58-c391-4f4f-ec41-14b5cd9e0414"
      },
      "execution_count": null,
      "outputs": [
        {
          "output_type": "execute_result",
          "data": {
            "text/plain": [
              "['black white television program good entertaining accompany daily activity especially work keep working trans tv good luck future',\n",
              " '',\n",
              " 'ada nih di trans hitam putih dia dpt penghargaan juga di norwegia hitamputih',\n",
              " 'selamat ya ma adietaufan masuk hitamputih',\n",
              " 'asiknya nonton hitam putih trans',\n",
              " 'trans acara paling komplit dan menarik apalagi ada hitam putih',\n",
              " 'hitam putih inspiratif banget',\n",
              " 'suka banget dengan acara hitam putih',\n",
              " 'keren lu bro hitamputihtrans',\n",
              " 'tadi ada yg liat hitam putih di trans ga ada sanggu ganteng',\n",
              " 'cinta mengikat silaturahmi di hati lunamaya hitamputihtrans http www instagram com p btqszj jo',\n",
              " 'terima kasih pak sudah mau membantu kami untuk menyekolahkan adik saya hitamputihtrans',\n",
              " 'semoga lancar hitamputihtrans',\n",
              " 'trans hitam putih terbaik http www instagram com p btyytxmgvkd',\n",
              " 'acara hitam putih paling bagus buat di lihat',\n",
              " 'trans undang da rafly di acara hitam putih ya dia jebolan dangdut academi pinter nyanyi lagu india suaranya keren',\n",
              " 'bagus rancangan seperti ini di trans hitamputih sambil dakwah hiburannya terima kasih ustadz wijayanto',\n",
              " 'wah kapan rihanna bisa jadi bintang tamu hitam putih kayak di asal trans jadi kangen kapan tayang lagi di trans',\n",
              " 'terimakasih telah menonton hitam putih malam ini semoga dapat menginspirasi dan dapat memberikan pelajaran utk sobat rafatharonhp',\n",
              " 'acara hitam putih di trans topiknya bagus nih ttg kepribadian ganda',\n",
              " 'nonton kisah anastasya wella di hitamputihtrans seru bgt ya kisahnya punya kepribadian berbeda',\n",
              " 'yang bikin selalu rindu kalau jauh dari nya hitamputihtrans',\n",
              " 'hitamputih wihh hebat kakek neneknya trans',\n",
              " 'setelah menunggu sekian lama akhirnya yukikatou nongol juga di hitam putih trans',\n",
              " 'makin asik hitam putih',\n",
              " 'spensa boy asal poso di hitam putih trans asli kalian keren yang pake kemeja biru putih si gingsul ada salam dari sini',\n",
              " 'wahh asik nih vocalgrup hitamputih thanks trans',\n",
              " 'setiap hari aku slalu nonton hitam putih di trans hb acara nya bagus banget ma dedy',\n",
              " 'acara hitam putih di trans malam ini pembahasannya mantab setuju kalau bakal diperbanyak yang mengulas hal semacam ini',\n",
              " 'lg seru nonton hitam putih terus lanjut nonton spot indahmariana hitamputiht trans',\n",
              " 'hpjkt jkt hitamputiht trio unyu di acara master dedy thanks hitamputih',\n",
              " 'perusahaan jujur pasti punya pekerja yg jujur hitamputiht',\n",
              " 'keren undang mereka dong di acara hitamputih atau acara presiden news trans',\n",
              " 'suka banget sama episode hitam putih malam ini hitamputih trans',\n",
              " 'kangen jeketi jadi bintang tamu hitam putih trans seru aja gitu pa jaman gen diundang ke hitam putih',\n",
              " 'terima kasih telah menyaksikan hitam putih hari ini semoga menginspirasi dan terhibur',\n",
              " 'makin ok saja hitam putih mau donk di undang',\n",
              " 'sangat menginspirasi hitamputihtrans focus hari ini banyak inspirasi buat saya',\n",
              " 'seru nih hitam putih trans live',\n",
              " 'bersyukurlah kita hidup di indonesia hitamputihtrans',\n",
              " 'setuju banget sama ucapan deddy corbuzier di hitam putih trans hr ini guru tak perlu diberikan tanda jasa cukup naikan gaji',\n",
              " 'selamat siang selamat beraktivitas juga kami selalu menunggu hitam putih di chaenel kesayangan trans',\n",
              " 'ada stefan lilipaly andik vermansah di hitamputiht keren',\n",
              " 'nonton trans hitam putih keren abis jesika cantik dedy ganteng hitamputihtrans',\n",
              " 'acara hitam putih memang oke',\n",
              " 'yuk tweeps merapat sebentar lagi hitam putih akan live',\n",
              " 'tweeps terima kasih sudah menyaksikan hitam putih hari ini besok kembali live di trans hpviral',\n",
              " 'hitamputihtrans emang selalu keren siapapun tamunya',\n",
              " 'subhanallah ni anak karunia yg tak ada bandingnya trans hitamputih',\n",
              " 'sangat terkesan setelah mendengar salah satu dr mereka jika saya adalah orang yg maju terus hitam putih semoga sukses slalu',\n",
              " 'hitam putih bego haruka diundang bentar biar pd liat younglex udah gt malah dihina bego',\n",
              " 'miri liat pemerintah juara angkat berat se asia tp tdk ada biaya mengikuti kejurnas miri hitamputihtrans',\n",
              " 'juara angkat berat se asia tdk menerima hadiahnya dan tidak bisa ikut kejurnas karena terkendala biaya hitamputihtrans',\n",
              " 'haruka lain kali kalau diundang ke hitam putih ditolak aja hostnya ga menghargai kamu',\n",
              " 'berasa aneh nonton acara hitam putih tapi penonton nya anak yg sekolah di sekolah gua smkjakarta',\n",
              " 'sedih dengar curhatanmu roxana semoga tuhan tunjukkan jalan dan titik terang utk roxana hitamputih pegulat',\n",
              " 'miri ketika anak indonesia kesulitan menggunakan bahasa indonesa dan lebih nyaman menggunakan bahasa asing hitamputihtrans akuindonesia',\n",
              " 'sombongnya mentang kaya pake diumumkan saya host kaya di hitam putih trans',\n",
              " 'parah banget hitam putih di trans ngomong sembarang yg merusak generasi muda acara kyk gini',\n",
              " 'orang bangkrut itu bukan perkara soal uang tetapi bangkrut itu orang yang sudah tidak punya mimpi bangqomar hitamputiht',\n",
              " 'menakutkan powernya oma martha hitamputiht',\n",
              " 'hitamputiht jika hasilnya tdk sesuai dgn apa yg dikehendaki para pendemo akan demo lg silakah jika ini diartikan sbg pemaksaan kehendak',\n",
              " 'mulut farhat aba anjay bener di hitamputiht',\n",
              " 'klo episode berikutnya muncul lagi di hitamputiht saya ga bakal nonton lg hitam putih hitamputiht',\n",
              " 'yaampun banyak anak kecil yang nonton hitamputiht',\n",
              " 'seorang anak yg butuh pengakuan dari sang ayah hitamputiht marioteguh',\n",
              " 'mario teguh mencampakkan anak nya hitamputiht',\n",
              " 'orang tuna netra aja bisa berbagi kok yg pegang jabatan tinggi korupsi hitamputiht',\n",
              " 'pandji garing banget sih ni orang hitamputiht',\n",
              " 'kalo sekarang yang nyanyi anak tapi lagu na terlalu menyakitkan memalukan untuk disebutkan savelaguanak hitamputiht',\n",
              " 'bukan maksud ngatain tp cuma bertanya knp hanya orang kecil atau bawah yg ditindes hitamputiht hitamputiht',\n",
              " 'bos kau kalo cowo kerja salah di bentak abis kalo cewe malah diajakin becanda trus ketawa mystupidboss hitamputiht',\n",
              " 'suara sang veteran kalau perlu koruptor di hukum mati hitamputiht',\n",
              " 'kok berita nya ga nyebar sih hitamputiht trans',\n",
              " 'hitamputiht buta tuh orang dalem ruangan pake kacamata hitam hitamputiht',\n",
              " 'ya dunia jadi terharu kepergian mbak jupe hitamputih trans',\n",
              " 'jadi gitu nasib atlet kita ya kemenpora ri hitamputiht',\n",
              " 'knp ya seorang sahabat b lupa dg sahabatnya bila sudah bertemu teman lama barunya hitamputiht',\n",
              " 'baby tatan nangis ngeliat daddy hitamputiht hitamputiht',\n",
              " 'angkat topi dan tundukkan kepala buat mbah simpen hitamputihtrans',\n",
              " 'toleransi umat beragama macam apa yg diterapkan di serang banten toleransi hanya mitos hitamputiht',\n",
              " 'suara sang veteran kalau perlu koruptor di hukum mati hitamputiht',\n",
              " 'turut berduka buat anak nya buk pak hitamputiht',\n",
              " 'ingin kan hal yg baik tetapi belum tentu semua itu sesuatu yg diharapkan moreppie hitamputiht',\n",
              " 'ga tau kenapa semua menjadi buruk ketika kau pergi moreppie hitamputiht',\n",
              " 'hitamputiht udah sodok ajah bu haha tributetowanitaindonesia',\n",
              " 'butuh ketegasan dari pihak masyarakat dan pemerintah kita butuh tindakan bukan hanya ngoceh di medsos hitamputiht pollinghitamputih',\n",
              " 'hidup itu harus dijalanin bukan dipikirin hitamputiht',\n",
              " 'pemimpin itu adalah pribadi yang dikorbankan hitamputiht',\n",
              " 'hidup ini dijalanin bukan dipikirin mongol stres hitamputiht',\n",
              " 'hitamputiht demo gak akan nyelesaikan masalah harusnya bermusyawara ajha hitamputiht',\n",
              " 'hitamputiht bayangkan kalau seluruh konvensional akan buat online dimana pengusahanya tdk perlu bayar apa yg perorangan pasti kalah',\n",
              " 'lebih enak taksi konvensional kalo kita kepepet ada taksi yg lewat langsung kalau nunggu yg online lama hitamputiht onlinevskonvension',\n",
              " 'hitamputiht apakah ada hal kaya gini di negara lain intinya saya gk setuju usaha kaya gini onlinevskonvensional',\n",
              " 'gak punya gadget mahal nipu gk jelas argonya sering argo kuda dan gak aman pake konvensional hitamputihtrans',\n",
              " 'hidup itu pilihan jangan pasrah dengan keadaan',\n",
              " 'hitamputiht gawat darurat tetangga menembaki dg sengaja kucing disekitar rumah komplekrumahelitbandung',\n",
              " 'miri sekali liat keadaan hewan yg di aniaya hitamputiht hpsayangbinatang',\n",
              " 'hanya membicarakan permasalahan orang lain memalukan',\n",
              " 'dedy sombong nya keteraluan',\n",
              " 'suka banget nonton indonesialawyersclub bisa menambah wawasan bisa belajar cara membicarakan suatu masalah keren ilc tvonenews',\n",
              " 'ngakak mantap dah pokoknya seru',\n",
              " 'rindu ilc indobesia lawyer club di tvone',\n",
              " 'indonesia lawyer club merupakan program talkshow paling ditunggu pemirsa tvone yang membahas topik terkini tahuntvone',\n",
              " 'selalu kagum dengan buya syafii maarif ilc tvone http youtu gpxskltal',\n",
              " 'saya punya panglima yang membanggakan ilc tvone http youtu tr tn u eaw',\n",
              " 'rating indonesia lawyer club tv one langsung melesat tvone setelah',\n",
              " 'sejuk kalo ilc itu kayak gini obrolannya ilc tvone',\n",
              " 'semuanya nonton tvone indonesia lawyer club yuk',\n",
              " 'belajar cara berdebat di bidang hukum ilc',\n",
              " 'selamat tayang kembali indonesia lawyer club tvone',\n",
              " 'ini yg bikin adem hati aa gymnastiar ilc',\n",
              " 'ikhlas itu melepaskan dan mendoakan ilc',\n",
              " 'bang karniilyas cerdas ilc hebat',\n",
              " 'pak ustadz keren banget ilc',\n",
              " 'ilc saatnya damai bersenandung',\n",
              " 'saatnya damai bersenandung ilc dan pemecah belah umat beragama dimusnahkan',\n",
              " 'semoga makin paham seperti apa sejatinya rupa indonesia ilc',\n",
              " 'ilc malam ini adem indonesialawyersclub',\n",
              " 'indahnya ilc malam ini semua pemuka agama saling rangkul dan setuju untuk meninggalkan kasus ahok yang merusak keselarasan bangsa ilc',\n",
              " 'setuju banget sama bapak ustad ilc',\n",
              " 'top banget utadz zaitun rasmin ilc',\n",
              " 'yuk tonton tvone selalu menyajikan berita obyektif tvoneslldihati',\n",
              " 'ilc polmart memang bijaksana',\n",
              " 'rakyat mendukung kpk usut tuntas kasus e ktp karniilyas ilctvone',\n",
              " 'acara televisi yang sangat saya suka ilctvone',\n",
              " 'ga sabar nunggu ilctvone',\n",
              " 'semangat dan sehat selalu pak karni penonton setia menunggu ilc tayang kembali karniilyas ilctvone',\n",
              " 'adem dengerin nasehat dari aa gym semoga sehat slalu dan dalam lindungannya islamjagankri generalgatot ilctvone',\n",
              " 'sangat banyak ilmu yang bisa kita serap di ilctvone semalam menyejukan',\n",
              " 'ilctvone bangga kepada panglimatni jendralgatotnurmantyo',\n",
              " 'salut dengan komitmen pak generalgatot tegas berwibawa inilah jenderal sesungguhnya ilc ilctvone',\n",
              " 'hormat jendral ilctvone keren nextpresiden',\n",
              " 'aa gym menyejukan mental dan jiwa ilctvone',\n",
              " 'terimakasih buya syafii maarifinstitute bangga dg kejernihaannya ilctvone',\n",
              " 'penjelasan kapolri jelas dan tegas barakallahu mari buka hati ilctvone jagankri',\n",
              " 'jika kita memiliki kasih seharusnya saling memaafkan jika ada org yg sudah mau minta maaf itu baru keren salut ilctvone',\n",
              " 'ilctvone jonru hafidz ary ahmaddhaniprast sampe diketawain krn awalnya kalem diujung keringat dingin matanya merem asli lucu',\n",
              " 'ahmad dhani ngomong pasti seru ini ilctvone',\n",
              " 'mendengar pendapat pak hasim muzadi sangat menentramkan keren ilctvone',\n",
              " 'salut dan hormat utk bang jhonson panjaitan lugas dan masuk akal ilctvone',\n",
              " 'kompak dan sama pembelaan antara bnn n polisi ilctvone',\n",
              " 'keren kali abang pengacara botak ini ilctvone',\n",
              " 'jokowi ini org betul soleh hendropriyono ilctvone',\n",
              " 'top n mencerahkan prof mohmahfudmd ilctvone',\n",
              " 'medium dukung ahok karena pendapatan iklan dari korporasi juga besar ilctvone',\n",
              " 'ilc tvonenews keren bikin melek ilctvone',\n",
              " 'salut sama pak darmawan salihin ilctvone',\n",
              " 'semga ilc tetap jadi memberikan informasi yang benar',\n",
              " 'acara debat yag hebat keren ilc',\n",
              " 'yang di tunggu bukan tvshow tapi indonesia lawyer club tvshow tidak cocok dengan karakter siaran tvone',\n",
              " 'indonesia lawyer club tvone malam ini sepertinya batal tayang lagi memalukan rezim ini terlalu sakit sehingga takut http fb pynacs',\n",
              " 'potensi teroris sangat besar jangan bikin pernyataan yg memberi peluang pd teroris ilc',\n",
              " 'indonesia banyak masalah tp gak ada sikap tegas dr pak presiden ditanya di demo malah sibuk pencitraan upload video gak penting ilc',\n",
              " 'kalau melihat acara ilc membidik habieb rizieq habieb ga perlu pulang ke indonesia ga penting ga mutu',\n",
              " 'busyro muqoddas minoritas ekonomi kuat menguasai mayoritas ekonomi lemah tidak pernah dibahas inilah sumber radikal miri ilc karnii',\n",
              " 'sekali lg mengingatkan aniesbaswedan untuk jaga jarak dg islamis radikal jika tak ingin melihat bangsa ini hancur ilc',\n",
              " 'omongannya ga menarik ga berisi ilc',\n",
              " 'ani difitnah katanya dia ilc',\n",
              " 'sebuah pertanyaan kepada metromini utk dijadikan metronome yang dibentuk oleh kemacetan yang cukup padat di berikan oleh putra petir ilc',\n",
              " 'buat para pembela ahok cek cara berpikirnya masa kalah sama anak sd ahokharusdipenjara ilc tvonenews ilc',\n",
              " 'matanajwa kok kayak provokatif ya pembawa acaranya beda kelas dg ilc ilc tvonenews',\n",
              " 'saya pribadi tdk suka dgn acara mata najwa dan ilc tdk menyelesaikan masalah kayaknya matanajwa ilc',\n",
              " 'benarkah kebohongan yang diulang ulang ilc',\n",
              " 'diracun dengan pujian ilc',\n",
              " 'male nonton topik ilc ga kekinian',\n",
              " 'meskipun kebohongan itu lari secepat kilat satu waktu kebenaran akan mengalahkannya ilc',\n",
              " 'org yg namanya tampang nabi tp hati iblis sesuai dgn pernyataan pengacara nazarudin ilc',\n",
              " 'para pejabat sedang sibuk membicarakan hak angket ilc tv ne http fb rgmoq cl',\n",
              " 'saya paham bahwa saya gagal paham ilc',\n",
              " 'ngomong segitu panjang gak dapet maksudnya mau apa aneh ilc',\n",
              " 'sumpah liat mukanya fahrihamzah di ilc pengen gw lempar pake sepatu nyebelin bgt',\n",
              " 'percuma pak fahri dower itu masih sakit hati sama kpk ilc',\n",
              " 'dpr terusik kpk dibidik ilc',\n",
              " 'reflyhz ajarin dewan ttg hak angket ilc',\n",
              " 'saya rakyat tp saya jg kadang ga seneng lihat cara nya yg superbodi kok kyknya tebang pilih jg ilc',\n",
              " 'ilc merajut jakarta kembali setelah tercabik cabik karena kepemimpinan masa lalu',\n",
              " 'karniilyas maksudnya cinta akan uang adalah akar kejahatan ilctvone',\n",
              " 'makin hari makin geram ngeliat tingkah laku dan akhlaq oknum yang mengatasnama kan islam ilctvone',\n",
              " 'pembohongan publik itu ketika rambut udah putih beruban tapi di cat hitam ilctvone',\n",
              " 'matanajwa meskipun beda kelas sm ilctvone knp masih bebas tanpa pembatalan tanya kenapa',\n",
              " 'nonton ilc tokoh betawi bilang org betawi itu gampang intinya bacot lu jaga jadi itulah intinya ilctvone',\n",
              " 'merajut kembali jakarta gampang kok bacot lu jaga ilctvone',\n",
              " 'buya safii maarif yg lebih tua kalah bijak dari nasihat bung eep yg jauh lebih muda ilctvone',\n",
              " 'merampas hak dasar sebagai manusia harus batal demi hukum ilctvone',\n",
              " 'pihak polisi kasihan jadi terlihat sangat bodoh berhadapan dengan argumentasi hukum dan pakar ilctvone',\n",
              " 'itu bapak abi manyu kasian beliau tidak paham whatsapp miri ilctvone',\n",
              " 'bintang ilctvone pun muncul aagym tidak ada partai atau tokoh manapun yang sanggup menggerakkan orang http fb wdyokqzu',\n",
              " 'menghimbau jangan terprovokasi tp memantik kebencian tidak meneduhkan tp membuat mendung ilctvone',\n",
              " 'tindakan anarkis pada saat aksi bukan oleh pendemo ilctvone savehmi',\n",
              " 'sepenting apapun itu ingat kita akan mati seram ilctvone',\n",
              " 'siapa lagi ketua preman pasar ikutan ngomong memalukan ilctvone',\n",
              " 'jgn krn cuma jaga moral dr konten porno negara ini darurat radikalisme mau tunggu perang kyk di suriah baru kpi sadar ilctvone',\n",
              " 'kami butuh fakta bukti bukan hanya ngomong kebohongan ilctvone',\n",
              " 'kasian ya yg bapak berpeci pake batik merah tadi air mata nya dikeluarin cuma krn ahoax miri ilctvone',\n",
              " 'syaiton itu musuhmu jgn dijadikan sbg teman manusia b kesetanan tp setan tdk b kemanusiaan insyaflahwahaimanusia ilctvone',\n",
              " 'ilctvone mendengar cerita bu marwah aku merasa bodoh memalukan',\n",
              " 'ilctvone ini bang gaya nya benar pemikiran liberal miri sekali',\n",
              " 'sesat pikir para pengamat taxamnesti ilctvone',\n",
              " 'berbicara kelamaan ribet ilc',\n",
              " 'ih lucu ma kick andy nya senyum aja',\n",
              " 'nonton pak hasan merkids di kick andy sangat menginspirasi salut pak hasan',\n",
              " 'cara ubah mimpimu jadi tindakan kick andy',\n",
              " 'kickandy gokil kickandy',\n",
              " 'terima kasih sudah menonton acara kickandy eps ubah mimpimu jadi tindakan semoga bermanfaat',\n",
              " 'temukan lentera jiwamu kickandy mahasiswaum',\n",
              " 'agung saya akan undang lagi untuk bercerita banyak tentang perjalanan kehidupanmu kickandy',\n",
              " 'para musisi yg menggelorakan semangat nasionalisme dan kebhinekaan unjuk gigi kickandy nkri harga mati',\n",
              " 'anak mulai berimajinasi kickandy',\n",
              " 'cara gila mendaki gunung kickandy luar biasa mantap jiwa',\n",
              " 'sayangilah alam niscaya alam akan menyayangimu kickandy',\n",
              " 'mantan narapidana pun dirangkulnya untuk dicarikan pekerjaan untuk menjalani hidup yg lbh baik lagi',\n",
              " 'agung eevnxx mampu membuktikan sebuah karya yg mengagumkan bisa dihasilkan dgn belajar scr otodidak',\n",
              " 'salah satu kejadian yang membuat penonton tertawa saat agung hapsah muncul kickandy',\n",
              " 'agung akan diundang untuk bercerita banyak tentang perjalanan kehidupanmu kickandy',\n",
              " 'jatuh lalu bangkit untuk membantu sesama kickandy',\n",
              " 'rasa bangga itu ada setelah saya b menyumbang karya kecil buat nkri ronny kickandy patut acungi jempol',\n",
              " 'sahabat gimbal ala nanti malam jangan lupa ya nonton kickandy cara gila mendaki gunung ala cak tarpin',\n",
              " 'hanya orang takut yang bisa berani karena keberanian http ekhs nomor com ekhs menulis adalah kesenangan saya htm kickandy',\n",
              " 'kickandy anda hanya dekat dengan mereka yang anda sukai dan anda menghindari orang yag tidak anda sukai',\n",
              " 'anak th yang berfikir dewasa mampu mampu membiyayai sekolahnya sendiri dengan cara membajak sawah kickandy metro tv metrotvtoday',\n",
              " 'kangen lagi nonton kickandy sama ayah ayah langsung bilang seharusnya kamu bersyukur',\n",
              " 'kickandy kickandyshow siang ini jg jadi ajang reuni sahabat kosti dki dan kosti jateng',\n",
              " 'bapak ku lucu ya kickandy',\n",
              " 'besok pagi harus ut jd pulang duluan cuma poto bareng gambarnya kickandy kickandyshow',\n",
              " 'bahagianya masuk tv bersama kawan kickandy kick andy http www instagram com p btgua khkxq',\n",
              " 'keren dan kocak nih tamu kickandy mereka mereka yg memang lomba design yg berasal dari malang',\n",
              " 'lucu ni bapak bikin ketawa terus persis kayak di tv kickandy http ift tt rw w',\n",
              " 'terima kasih kickandy sudah menginspirasi saya membuka mata banyak orang karena kesetiaan yang teruji itulah cinta yang sesungguhnya',\n",
              " 'cinta itu agung tuhan itu luar biasa kickandy',\n",
              " 'riasan terbaik seorang wanita adalah semangat dan rasa percaya dirinya kickandy',\n",
              " 'nonton kickandy menginspirasi sekali',\n",
              " 'kickandy kita mendukung ahok karena orang baik kickandyshow metro tv',\n",
              " 'mantap pak ahok kickandy',\n",
              " 'manusia bersih pasti berani kickandy tamuahok',\n",
              " 'suka dengan nasehat pak analta amir yg meminta ahok menyaring ucapan kickand',\n",
              " 'nonton kickandy menarik membuka pikiran menginspirasi sukses selalu',\n",
              " 'inilah jagoan saya hahahaha kickandy',\n",
              " 'salut lah sama orang kek gitu kickandy',\n",
              " 'kickandyshow semoga tambah ok dan panjang umur semoga acara nanti malam lancar kickandy',\n",
              " 'ajang orang orang saling menginspirasi kickandy kickandyheroes',\n",
              " 'suara penta boy ini memang keren banget pantas jadi juara di rumania kickandy',\n",
              " 'penta boy ini masih eksis saja dan saya suka suara mereka keren kickandyp',\n",
              " 'rupanya terselip beberapa detik di kick andy keren dan luar biasa',\n",
              " 'terimakasih kickandy',\n",
              " 'tayangan yang sangat inspiratif yang banyak memberi motivasi kepada kita untuk lebih bisa mencintai orang orang disabilitas kickandy',\n",
              " 'perjuagan mereka istimewa krn mampu menembus keterbatasan sbg rasa syukur pada allah sangat menginspirasi kickandy',\n",
              " 'syukurilah atas kehidupanmu saat ini kickandy',\n",
              " 'acara yang sangat menginspirasi sekali salut kickandy',\n",
              " 'suka dengan semua tamu yang diundang pasti menginspirasi kickandy',\n",
              " 'kalo udah di puncak jangan lupa sampahnya di bawa turun lagi karena alam bukan tempat nyampah stop nyampah di gunung kickandy',\n",
              " 'rt kickandyshow wna terancam dideportasi dan lia gracialia terancam dipidanakan',\n",
              " 'lebih baik menyalakan lilin daripada mengumpat kepada kegelapan pejuangtangguh kickandy',\n",
              " 'aku ga mau bohongi diri sendiri gimbal ala malang kickandy',\n",
              " 'sampan tidak akan dapat belayar di padang pasir betapa pun jua emp http ilha nomor net ilha burung kertas htm kickandy',\n",
              " 'bila kita mencari uang kita akan dipaksa mengupayakan jangan malas http ln nomor com kfmap kickandy',\n",
              " 'dalam hidup terkadang kita lebih banyak mendapatkan apa yang tidak kita inginkan nomor net kickandy',\n",
              " 'cobaan suami saat istri sakit cobaan istri saat suami gak punya duit miri kickandy',\n",
              " 'terharu mendengar puisi perempuan yang tak berhenti terjaga dari anak anak ibu shinta nuriyah miri kickandy',\n",
              " 'anak itu milik berdua bukan milik salah satu bantulah istri mengasuh anak seperti itu gusdur kickandy',\n",
              " 'ujian suami adalah saat istri sakit dan ujian istri adalah saat suami tidak punya apa apa kickandy',\n",
              " 'kickandy bung andy cuma mampir dgn gaya remaja sbg idola remaja dan tidak sempat beli',\n",
              " 'kelemahan anda hanyalah sementara karena anda sedang memperkuatnya tetapi bila anda jadi tekcmi kickandy',\n",
              " 'kekuatan terbesar yang mampu mengalahkan stress adalah kemampuan memilih pikiran yang tepat kita akan hermafik kickandy',\n",
              " 'itu yg saya kesel coba kalo sodara km ngantri ke kanker coba km rasain kok b gitu fitnah org kickandy suarahatiahok',\n",
              " 'klo pulang ke rumah mati ga ada yg urus miskin kok kita mw taruh dia di apartemen kickandy suarahatiahok',\n",
              " 'kalo dia berantem tdk ada telor busuk diketeknya kickandy pilkadadki',\n",
              " 'pak basuki btp mukanya sedih banget pa kakak angkatnya ngomong kickandy',\n",
              " 'andy terlihat kaku dan jaga sikap saat mengundang ahok menjadi tamu mungkin agar terlihat lebih formal kickandy',\n",
              " 'makin stress makin ngantuk ahok kickandy',\n",
              " 'jangan melihat orang dari cover nya aja tapi lihat lah dia dari sisi lain nya fisik bisa saja sm namun isinya berbeda kickandy',\n",
              " 'kayak gajah yg dibilang psikolog di metro tv kickandymetrotv',\n",
              " 'jangan di bakarin dong pak andy kickandyshow kickandymetrot',\n",
              " 'bikin sakit perut nonton kisah sarjana tertua di indonesia kickandymetrotv',\n",
              " 'pekerjaan yg tdk sesuai dengan kualifikasi pendidikannya kickandymetrotv',\n",
              " 'tp ttp tdk msk surga jd ibadahnya sia hahaah rt melanjhe sp bilang orang bertato tdk boleh beribadah kickandymetrotv',\n",
              " 'orang bertato tdk boleh beribadah kickandymetrotv',\n",
              " 'apakah kamu bodoh tidak kamu di bodohi oleh suatu sistem mike marjinal kickandymetrotv',\n",
              " 'gimana soal un g b bocor pertanyaan malaikat di alam kubur aja udah bocor kickandymetrotv',\n",
              " 'masa ada anak lulu dg nilai palingg tinggi dan lulu snmptn undangan bidik misi pdhl dia susah sekali sbyudhoyono kickandymetrotv',\n",
              " 'orang belanda aja peduli sama orang indonesia yg berada daerah terisolir gimana dg pemerintah indonesia zhonk kickandymetrotv',\n",
              " 'merinding deh nonton kickandymetrotv',\n",
              " 'indonesia bahkan kita dididik untuk menjadi rusak kickandymetrotv',\n",
              " 'parahnya kualitas pendidikan di indonesia kickandymetrotv',\n",
              " 'demi apapun ya kick andy sekarang botak kickandymetrotv',\n",
              " 'jadi merasa malu krn kalah dari org yg tdk sempurna tapi mempunyai yg lebih dari org sempurna kickandymetrotv',\n",
              " 'hukum di indonesia masih jauh dari kata adil kickandymetrotv',\n",
              " 'aku kira makin tua makin keladi malah jd macan ompong melempem kecewa liat amin rais di kickandymetrotv',\n",
              " 'kickandymetrotv medium harus mengisi lebih banyak ttg kisah sukses di tv bukan gosip berita rusuh acara gg jelas tai kucing catet',\n",
              " 'kickandymetrotv jika ingin dihargai orang hargailah orang lain juga',\n",
              " 'dibawah sana banyak yg lebih sulit jangan banyak mengeluh kickandymetrotv',\n",
              " 'hidup adalah perjuangan yang melelahkan capek kickandy',\n",
              " 'orang orang yang berhenti belajar akan menjadi bodoh kickandy http untub humandesignindonesia com untub rahasia dalam memikat',\n",
              " 'ambillah waktu untuk berfikir jangan jadi perusak kickandy http koepb networknumberone com koepb tak ada yang berubah meski sa',\n",
              " 'miri ketika melihat banyak perusak di indonesia kickandy',\n",
              " 'sistem mike marjinal banyak membodohi orang kickandy',\n",
              " 'stress melihat semua kekacauan yang ada kickandy',\n",
              " 'kesel banget coba kalian ada di posisi pak ahok kickandy',\n",
              " 'coba pulang kerumah mati ga ada yg urus miskin kok kita akan taruh dia di apartemen kickandy suarahatiahok',\n",
              " 'tidak ada orang bodoh yang ada hanya orang malas',\n",
              " 'setuju al misbah mata najwa dan kick andy program favorit',\n",
              " 'metro tv mata najwa pancasila punya kita http metrotvn w znaj qeb',\n",
              " 'selera gue ini gatau akhir ini suka banget nonton metro tv kalo ga kick andy mata najwa selera menua',\n",
              " 'mantap mata najwa pasti seru nih',\n",
              " 'sahabat yuk nonton mata najwa di metro tv bersama ketua umum dpp pkb',\n",
              " 'suarakan terus kebenaran mata najwa',\n",
              " 'selamat najwashihab dan keluarga besar metro tv prestasi yg luar biasa dialog keren rugi klo terlewatkan nonton mata najwa',\n",
              " 'tv matanajwa semoga acara mata najwa metro tv jadi acara favorit dan semakin jaya berkualitas di masa mendatang',\n",
              " 'pasti menang cuma mata najwa yang paling ok rt metro tv dukung mata najwa menjadi program tv terbaik http tl gd nnoc f',\n",
              " 'mata najwa metrotv inspiratif',\n",
              " 'kenapa hari ini terasa tentram dan bahagia nonton mata najwa metro tv',\n",
              " 'mata najwa paling keren acaranya matanya setajam silet',\n",
              " 'mata najwa malam ini kayaknya bakal seru banget',\n",
              " 'mata najwa memang paling keren mantap',\n",
              " 'keren tampil di kandang lawan pak anies baswedan tampak gemilang di mata najwa metro tv',\n",
              " 'memang cukup romantis dan memuaskan pemirsa krn adanya mata najwa semakin sukses',\n",
              " 'menarik sekali mengikuti diskusi ahok ani di mata najwa http fb kyy nadc',\n",
              " 'ahok merasa pinter dan merasa hebat di debat acara mata najwa metro tv',\n",
              " 'mata najwa dan metro tv berpihak pada paslon untung ahok cerdas semangat pak allah bersamamu',\n",
              " 'sudah terbukti di mata najwa kalau ahok lebih hebat dari ani insaallah ahok jarot menang',\n",
              " 'sip keren debat ala mata najwa lebih keren daripada ala kpud yg sdh diatur utk lbh jaim',\n",
              " 'semoga bapak jokowi melihat acara mata najwa supaya masalah masalah yg dipelosok dapat diatasi',\n",
              " 'keren deh mata najwa juga',\n",
              " 'metro tv keren inspiratif dgn mata najwa nya kick andy',\n",
              " 'metro tv emang tv paling keren ya edukatif dan menginspirasi seperti mata najwa dan kick andy',\n",
              " 'pemimpin itu harus cerdas santun tegas jujur bersih saya pilih aniessandipemersatu matanajwametrotv',\n",
              " 'liat pemimpin yg islami cerdas teladan matanajwametrotv',\n",
              " 'rame banget malam ini matanajwametrotv selalu menunggu topik lain yang seru dan nambah wawasan',\n",
              " 'kado indah malam ini najwashihab matanajwametrotv http instagram com p oowqcwgyj',\n",
              " 'tjokro dan rumahnya menjadi teladan tentang senioritas yang menghidupkan dan bukan mengkerdilkan matanajwametrotv',\n",
              " 'semangat bp bambang woidjojayanto matanajwametrotv savekpk',\n",
              " 'belajar dari gusdur matanajwametrotv',\n",
              " 'mata najwa ibu susi bpk dahlan dan bpk faisal basri inspiratif matanajwametrotv',\n",
              " 'metro tv keren malam ini yang lg malam mingguan rugi klo ga nonton mata najwa matanajwametrotv',\n",
              " 'kemerdekaan adalah hak segala bangsa tanyajokowi matanajwametrotv',\n",
              " 'seru nih mata najwa malam ini matanajwametrotv',\n",
              " 'salut buat ahok matanajwametrotv hutjekardah',\n",
              " 'super salut dengan pak ahok matanajwametrotv',\n",
              " 'matanajwametrotv berwibawa tak byk kata berkuasa tetap sederhana kagum',\n",
              " 'salut dan bangga sm pak bj habibie utk yg kesekian kalinya matanajwametrotv',\n",
              " 'obrolan santai menarik abraham slamet jk jokowi ani baswedan ganjar matanajwametrotv',\n",
              " 'ani baswedan jokowi ganjar pranowo jk abraham samad inspirasi indonesia keren matanajwametrotv',\n",
              " 'para pemimpin yg luar biasa matanajwametrotv',\n",
              " 'kerendahan kesederhanaan pak jokowi ini patut di tiru matanajwametrotv',\n",
              " 'seru nih dahlan iskan dan ketua dpr matanajwametrotv',\n",
              " 'desa bebas rokok yg sangat menginspirasi dan ternyata ada luar biasa matanajwametrotv',\n",
              " 'selalu dan masih terinspirasi dengan cinta bjh dan hab matanajwametrotv http myloc ddto',\n",
              " 'selalu memberikan banyak inspirasi matanajwametrotv',\n",
              " 'narasumber yang luar biasa matanajwametrotv',\n",
              " 'cie yg lg ada job di matanajwa',\n",
              " 'setelah nonton mata najwa soal radikalisme di metro tv langsung keluar berita tersebut seram',\n",
              " 'mata najwa acara sampah yg cuman memperkeruh suasana gue sbg pelajar mending pilih ilc matanajwa najwashihab metro tv',\n",
              " 'kata aneh lagi diacara mata najwa metrotv mengajarkan islam kepada umat islam dikatakan islamisi lebih edan lagi tokoh islam manggut',\n",
              " 'ilc mendinginkan mata najwa memprovokasi metro tv emang tv sampah ga bosan memojokan islam metro tv perusak pancasila',\n",
              " 'laporkan metro tv ke kpi metro itu stres mata najwa selalu kalah oleh ilc',\n",
              " 'kecewa mata najwa malam ini tidak bermutu narasi najwa bukti dia ga ngerti masalah karena keberpihakan jadilah kebodohan',\n",
              " 'metro tv untuk acara mata najwa host nya najwashihab jangan suka menyela pembicaraan orang kalau belum selesai gak sopan',\n",
              " 'jadi emosi sakit hati nonton mata najwa metro tv ganti chanel masakan aja',\n",
              " 'masa dari isi mimin itu bom kp melayu maaf katanya isi organisasi apa ikut organisasi mbak mata najwa betulkah itu mimin',\n",
              " 'fotonya kok pak jk yg integritasnya tdk jelas merusak reputasi mata najwa aja',\n",
              " 'gara di bantai teman sendiri sesama anggota dpr di mata najwa lu langsung benci metro tv',\n",
              " 'metro tv muak melihat kesombongan fz di acara live mata najwa',\n",
              " 'male lihat metro tv biarpun yg datang org nomor satu dunia ogah metro tv dan pembawa acara mata najwa sdh dicontreng hitam',\n",
              " 'keseringan masuk metro tv dan bergaul sama mata najwa engga diapa apain ngadu',\n",
              " 'kan udah bilang di mata najwa metro tv tanya aja sendiri ke bapak ani kok fitnah',\n",
              " 'kenapa mui tidak mengeluarkan fatwa haram korupsi rasanya harus undang jg para petinggi mui di mata najwa',\n",
              " 'bravo mata najwa debat pilgub dki kali ini garing kalah sama matanajwa yg mampu menggali lbh dalam matanajwa metro tv',\n",
              " 'bataldebatkarena kasihan pa debat mata najwa di metrotv aja pak basuki sudah hampir nangis ga kebayang kemarin debat lagi',\n",
              " 'setelah acara di mata najwa kasihan pak anies jd bulan di medsos untuk dihujat ahokdjarotdirosi',\n",
              " 'nyetel metro tv mata najwa debat kemaren bikin kesel masalah rumah coba cek skrg msh ada ga itu rumah di webnya',\n",
              " 'waktu awal sandi muncul sbg cawagub di metro tv dlm acara mata najwa pak sandi sdh berbohong',\n",
              " 'ini kesaksian mengejutkan pendukung anies yang merasa tertipu di acara mata najwa menipu metro tv matanajwa',\n",
              " 'matanajwadebatjakarta di kandang ahok metro tv dan mata najwa mereka bagaikan sampah yg berserakan anies pilihanku pasti',\n",
              " 'katanya boikot metrotv tp kok ngintip mata najwa',\n",
              " 'malas lihat anies bawa sial aja ini orang lebih baik lihat ahok aja di mata najwa',\n",
              " 'nonton mata najwa metro tv gw liat anies ngomong bikin ngantuk anaktangsel',\n",
              " 'mata najwa selalu menuduh menjelekan lawan memfonis lawan',\n",
              " 'liat mata najwa metro tv male diskusi basuki btp sama aniesbaswedan ga imbang salah satunya jualan mimpi',\n",
              " 'kayaknya mata najwa mengadu domba kedua cagub di putaran pilkada dki nih',\n",
              " 'gak mungkin saya di penjara saksinya aja palsu kok kata pak ahok terbuktiteruji matanajwametrotv',\n",
              " 'pak ani pak ani rekaman thn lalu msh disimpan loh sm metrotv gak malu ya nelen ludah sendri matanajwametrotv',\n",
              " 'sebagus apapun sistem ketika yang menjalankan orang yg tidak baik maka jadilah sistem itu tidak baik pula matanajwametrotv',\n",
              " 'ridwan bae tai tampang aja udah ngeselin ayo mbk nana bully trus si bae matanajwametrotv',\n",
              " 'miri liat pengaturan skor di sepakbola indonesia matanajwametrotv',\n",
              " 'dahulu pemuda berperang melawan penjajah sekarang pemuda melawan kebiasaan buruk yang tak kunjung berubah matanajwametrotv',\n",
              " 'pasrah pak haha tai matanajwametrotv sepakbolamiliksiapa',\n",
              " 'lo bilang kita ga punya kerjan ya radityadika matanajwametrotv',\n",
              " 'pssi tempat pelacur diri sudah tak punya hati nurani memalukan matanajwametrotv',\n",
              " 'matanajwametrotv jembatan comal masih blm jadi akibatya padat merayap',\n",
              " 'bagaimana penegak melanggar hukum kita tidak membayar seragam mereka hanya untuk menegakkan hukum rimba matanajwa matanajwametrotv',\n",
              " 'pak wapresnya diketawain mulu bajusama staff hotel celana robek boediono matanajwametrotv',\n",
              " 'rt putryvanvan pemimpin itu mendongrak keadaan bukan mengokohkan materi matanajwametrotv',\n",
              " 'tdk cukup dg menonton saja km harus masuk kedalamnya untuk melakukan perubahan ahok matanajwametrotv',\n",
              " 'lembaga negara di indonesia bobrok semua matanajwametrotv',\n",
              " 'org tolol dibilang di duga dia udh mencak yakin bgt jd tersangka matanajwametrotv',\n",
              " 'ini apa banget deh gw paling kesel klo orang pada debat pake emosi gini matanajwametrotv',\n",
              " 'orang miskin semakin miskin klo sekolah melakukan pungutan liar terus',\n",
              " 'ga boleh emosi cepat tua nonton matanajwametrotv lihat bapak hotmansutapea tiba ikut emosi bicara',\n",
              " 'dr penampilan saja kyk preman taunya bkin kisruh perusak matanajwametrotv',\n",
              " 'jawab aja ga usah berbelit belit muter ga jelas buang waktu ga mutu matanajwametrotv']"
            ]
          },
          "metadata": {},
          "execution_count": 154
        }
      ]
    },
    {
      "cell_type": "markdown",
      "source": [
        "## Vektorize"
      ],
      "metadata": {
        "id": "G0yVqPpGuKr-"
      }
    },
    {
      "cell_type": "code",
      "source": [
        "from sklearn.feature_extraction.text import CountVectorizer\n",
        "max_features=20000  # a random value that we specify as the size of the bag of words\n",
        "cou_vec=CountVectorizer(max_features=max_features,stop_words=\"english\")\n",
        "sparce_matrix=cou_vec.fit_transform(text_list).toarray() # vectorization\n",
        "all_words=cou_vec.get_feature_names() # bag of words\n",
        "print(np.amax(sparce_matrix))"
      ],
      "metadata": {
        "colab": {
          "base_uri": "https://localhost:8080/"
        },
        "id": "2uaokpStuEtg",
        "outputId": "316c1978-d771-4d9f-e544-b05b5e553116"
      },
      "execution_count": null,
      "outputs": [
        {
          "output_type": "stream",
          "name": "stdout",
          "text": [
            "4\n"
          ]
        }
      ]
    },
    {
      "cell_type": "code",
      "source": [
        "words = pd.DataFrame(sparce_matrix,columns=all_words)"
      ],
      "metadata": {
        "id": "_RshXcSeugOc"
      },
      "execution_count": null,
      "outputs": []
    },
    {
      "cell_type": "markdown",
      "source": [
        "## Wordcloud"
      ],
      "metadata": {
        "id": "A_o0oIDtukkH"
      }
    },
    {
      "cell_type": "code",
      "source": [
        "from wordcloud import WordCloud\n",
        "plt.subplots(figsize=(10,10))\n",
        "wordcloud= WordCloud(width=800,\n",
        "                     height=500,\n",
        "                     background_color=\"white\",\n",
        "                     colormap=\"hsv\",\n",
        "                     random_state=42).generate(\" \".join(all_words[200:]))\n",
        "plt.imshow(wordcloud)\n",
        "plt.axis(\"off\")\n",
        "plt.show()"
      ],
      "metadata": {
        "colab": {
          "base_uri": "https://localhost:8080/",
          "height": 380
        },
        "id": "W5HhKVykuqxg",
        "outputId": "cc6f06de-a1ba-4e03-e22d-095690f1ae4a"
      },
      "execution_count": null,
      "outputs": [
        {
          "output_type": "display_data",
          "data": {
            "text/plain": [
              "<Figure size 720x720 with 1 Axes>"
            ],
            "image/png": "[encoded data removed]"
          },
          "metadata": {
            "needs_background": "light"
          }
        }
      ]
    },
    {
      "cell_type": "markdown",
      "source": [
        "## Define X dan Y"
      ],
      "metadata": {
        "id": "HN2FpSA5wHRR"
      }
    },
    {
      "cell_type": "code",
      "source": [
        "X=sparce_matrix\n",
        "y=df.iloc[:,1].values"
      ],
      "metadata": {
        "id": "LHg6H-pAwD5y"
      },
      "execution_count": null,
      "outputs": []
    },
    {
      "cell_type": "markdown",
      "source": [
        "## Split Train Data & Test Data"
      ],
      "metadata": {
        "id": "e7dtO79TwSZI"
      }
    },
    {
      "cell_type": "code",
      "source": [
        "from sklearn.model_selection import train_test_split\n",
        "X_train,X_test,y_train,y_test=train_test_split(X,y,test_size=0.2,random_state=42)"
      ],
      "metadata": {
        "id": "97TfTPkgwYVI"
      },
      "execution_count": null,
      "outputs": []
    },
    {
      "cell_type": "markdown",
      "source": [
        "# Modeling"
      ],
      "metadata": {
        "id": "eBhNWRqHwdCG"
      }
    },
    {
      "cell_type": "markdown",
      "source": [
        "## Logistic Regression"
      ],
      "metadata": {
        "id": "_PgSOnNuwhMP"
      }
    },
    {
      "cell_type": "code",
      "source": [
        "from sklearn.linear_model import LogisticRegression\n",
        "lr=LogisticRegression()\n",
        "lr.fit(X_train,y_train)\n",
        "print(\"Akurasi Logistic Regression: \",lr.score(X_test,y_test))"
      ],
      "metadata": {
        "colab": {
          "base_uri": "https://localhost:8080/"
        },
        "id": "FYjOs3w-wjNn",
        "outputId": "87bc46db-ab5c-4c57-cbf0-6e4f5a8006d6"
      },
      "execution_count": null,
      "outputs": [
        {
          "output_type": "stream",
          "name": "stdout",
          "text": [
            "Akurasi Logistic Regression:  0.7125\n"
          ]
        }
      ]
    },
    {
      "cell_type": "code",
      "source": [
        "#confussion matrix\n",
        "y_pred_lr=lr.predict(X_test)\n",
        "y_true=y_test\n",
        "from sklearn.metrics import confusion_matrix\n",
        "names=[\"Positive\",\"Negative\",\"Neutral\"]\n",
        "cm=confusion_matrix(y_true,y_pred_lr)\n",
        "f,ax=plt.subplots(figsize=(5,5))\n",
        "sns.heatmap(cm,annot=True,\n",
        "            linewidth=.5,\n",
        "            cmap=\"YlGnBu\",linecolor=\"black\",\n",
        "            fmt=\".0f\",ax=ax)\n",
        "plt.xlabel(\"Prediksi\")\n",
        "plt.ylabel(\"Aktual\")\n",
        "plt.title(\"Confusion Matrix Logistic Regression\")\n",
        "ax.set_xticklabels(names)\n",
        "ax.set_yticklabels(names)\n",
        "plt.show()"
      ],
      "metadata": {
        "colab": {
          "base_uri": "https://localhost:8080/",
          "height": 350
        },
        "id": "qw7a-6IJwrZ0",
        "outputId": "f66e9421-2284-4a11-bb10-a4a29c2385c2"
      },
      "execution_count": null,
      "outputs": [
        {
          "output_type": "display_data",
          "data": {
            "text/plain": [
              "<Figure size 360x360 with 2 Axes>"
            ],
            "image/png": "[encoded data removed]"
          },
          "metadata": {
            "needs_background": "light"
          }
        }
      ]
    },
    {
      "cell_type": "markdown",
      "source": [
        "## Decision Tree"
      ],
      "metadata": {
        "id": "5J-ptby8w3-2"
      }
    },
    {
      "cell_type": "code",
      "source": [
        "from sklearn.tree import DecisionTreeClassifier\n",
        "dt = DecisionTreeClassifier(max_depth=150)\n",
        "dt.fit(X_train, y_train)\n",
        "print(\"Akurasi Decision Tree: \",dt.score(X_test,y_test))"
      ],
      "metadata": {
        "colab": {
          "base_uri": "https://localhost:8080/"
        },
        "id": "rGf0uL8twx35",
        "outputId": "c2745fe3-0b0c-4a81-bc96-b26c02dc5eff"
      },
      "execution_count": null,
      "outputs": [
        {
          "output_type": "stream",
          "name": "stdout",
          "text": [
            "Akurasi Decision Tree:  0.6625\n"
          ]
        }
      ]
    },
    {
      "cell_type": "code",
      "source": [
        "#confussion matrix\n",
        "y_pred_dt=dt.predict(X_test)\n",
        "y_true=y_test\n",
        "names=[\"Positive\",\"Negative\",\"Neutral\"]\n",
        "cm=confusion_matrix(y_true,y_pred_dt)\n",
        "f,ax=plt.subplots(figsize=(5,5))\n",
        "sns.heatmap(cm,annot=True,\n",
        "            linewidth=.5,\n",
        "            cmap=\"YlGnBu\",linecolor=\"black\",\n",
        "            fmt=\".0f\",ax=ax)\n",
        "plt.xlabel(\"Prediksi\")\n",
        "plt.ylabel(\"Aktual\")\n",
        "plt.title(\"Confusion Matrix Decision Tree\")\n",
        "ax.set_xticklabels(names)\n",
        "ax.set_yticklabels(names)\n",
        "plt.show()"
      ],
      "metadata": {
        "colab": {
          "base_uri": "https://localhost:8080/",
          "height": 350
        },
        "id": "w5_9QcU2xBzs",
        "outputId": "35c62049-ef00-41bf-d376-b2adaeb20fb6"
      },
      "execution_count": null,
      "outputs": [
        {
          "output_type": "display_data",
          "data": {
            "text/plain": [
              "<Figure size 360x360 with 2 Axes>"
            ],
            "image/png": "[encoded data removed]"
          },
          "metadata": {
            "needs_background": "light"
          }
        }
      ]
    },
    {
      "cell_type": "markdown",
      "source": [
        "## Random Forest"
      ],
      "metadata": {
        "id": "upVn4UNLxJU2"
      }
    },
    {
      "cell_type": "code",
      "source": [
        "from sklearn.ensemble import RandomForestClassifier\n",
        "rf = RandomForestClassifier(n_estimators=20,\n",
        "                            max_depth=200)\n",
        "rf.fit(X_train, y_train)\n",
        "print(\"Akurasi Random Forest: \",rf.score(X_test,y_test))"
      ],
      "metadata": {
        "colab": {
          "base_uri": "https://localhost:8080/"
        },
        "id": "5ZKy9PXHxHo1",
        "outputId": "0c352142-a75c-4ecd-dff0-33a41835267f"
      },
      "execution_count": null,
      "outputs": [
        {
          "output_type": "stream",
          "name": "stdout",
          "text": [
            "Akurasi Random Forest:  0.6625\n"
          ]
        }
      ]
    },
    {
      "cell_type": "code",
      "source": [
        "#confussion matrix\n",
        "y_pred_rf=rf.predict(X_test)\n",
        "y_true=y_test\n",
        "names=[\"Positive\",\"Negative\",\"Neutral\"]\n",
        "cm=confusion_matrix(y_true,y_pred_rf)\n",
        "f,ax=plt.subplots(figsize=(5,5))\n",
        "sns.heatmap(cm,annot=True,\n",
        "            linewidth=.5,\n",
        "            cmap=\"YlGnBu\",linecolor=\"black\",\n",
        "            fmt=\".0f\",ax=ax)\n",
        "plt.xlabel(\"Prediksi\")\n",
        "plt.ylabel(\"Aktual\")\n",
        "plt.title(\"Confusion Matrix Random Forest\")\n",
        "ax.set_xticklabels(names)\n",
        "ax.set_yticklabels(names)\n",
        "plt.show()"
      ],
      "metadata": {
        "colab": {
          "base_uri": "https://localhost:8080/",
          "height": 350
        },
        "id": "AXKYfXQ9xHmy",
        "outputId": "f2f9cb15-4ed8-4659-86f2-0fb500c0d0ae"
      },
      "execution_count": null,
      "outputs": [
        {
          "output_type": "display_data",
          "data": {
            "text/plain": [
              "<Figure size 360x360 with 2 Axes>"
            ],
            "image/png": "[encoded data removed]"
          },
          "metadata": {
            "needs_background": "light"
          }
        }
      ]
    },
    {
      "cell_type": "markdown",
      "source": [
        "## Neural Network"
      ],
      "metadata": {
        "id": "IqT1YJDkxWrp"
      }
    },
    {
      "cell_type": "code",
      "source": [
        "import keras\n",
        "from keras.models import Sequential\n",
        "from keras.layers import Dense\n",
        "import tensorflow as tf"
      ],
      "metadata": {
        "id": "TXsZLFYxxX_A"
      },
      "execution_count": null,
      "outputs": []
    },
    {
      "cell_type": "code",
      "source": [
        "from keras.models import Sequential\n",
        "from keras.layers import Dense\n",
        "\n",
        "model = Sequential()\n",
        "n_cols = X_train.shape[1]\n",
        "model.add(Dense(10, activation='relu', input_shape=(n_cols,)))\n",
        "model.add(Dense(10, activation='relu'))\n",
        "model.add(Dense(9, activation='softmax'))\n",
        "model.compile(optimizer='adam', loss='binary_crossentropy', metrics=['accuracy'])\n",
        "model.summary()"
      ],
      "metadata": {
        "colab": {
          "base_uri": "https://localhost:8080/"
        },
        "id": "AKUybXMDS-ib",
        "outputId": "4c547ff8-219e-46e7-cab1-de35173d76d5"
      },
      "execution_count": null,
      "outputs": [
        {
          "output_type": "stream",
          "name": "stdout",
          "text": [
            "Model: \"sequential_44\"\n",
            "_________________________________________________________________\n",
            " Layer (type)                Output Shape              Param #   \n",
            "=================================================================\n",
            " dense_63 (Dense)            (None, 10)                17300     \n",
            "                                                                 \n",
            " dense_64 (Dense)            (None, 10)                110       \n",
            "                                                                 \n",
            " dense_65 (Dense)            (None, 9)                 99        \n",
            "                                                                 \n",
            "=================================================================\n",
            "Total params: 17,509\n",
            "Trainable params: 17,509\n",
            "Non-trainable params: 0\n",
            "_________________________________________________________________\n"
          ]
        }
      ]
    },
    {
      "cell_type": "code",
      "source": [
        "y = pd.get_dummies(df['Sentiment']).values\n",
        "print('Shape of label tensor:', Y.shape)\n"
      ],
      "metadata": {
        "colab": {
          "base_uri": "https://localhost:8080/"
        },
        "id": "XbpcJBIjE7cd",
        "outputId": "1a7f50df-4759-4c6e-8ad9-c6e1cfbc0c55"
      },
      "execution_count": null,
      "outputs": [
        {
          "output_type": "stream",
          "name": "stdout",
          "text": [
            "Shape of label tensor: (400, 3)\n"
          ]
        }
      ]
    },
    {
      "cell_type": "code",
      "source": [
        "from keras.preprocessing.text import Tokenizer\n",
        "from keras.preprocessing.sequence import pad_sequences\n",
        "\n",
        "MAX_NB_WORDS = 50000\n",
        "MAX_SEQUENCE_LENGTH = 250\n",
        "EMBEDDING_DIM = 100\n",
        "tokenizer = Tokenizer(num_words=MAX_NB_WORDS, filters='!\"#$%&()*+,-./:;<=>?@[\\]^_`{|}~', lower=True)\n",
        "tokenizer.fit_on_texts(df['Text_Tweet'].values)\n",
        "word_index = tokenizer.word_index\n",
        "print('Found %s unique tokens.' % len(word_index))\n",
        "\n",
        "\n",
        "X = tokenizer.texts_to_sequences(df['Text_Tweet'].values)\n",
        "X = pad_sequences(X, maxlen=MAX_SEQUENCE_LENGTH)\n",
        "print('Shape of data tensor:', X.shape)"
      ],
      "metadata": {
        "id": "8mKamh5ppZX6"
      },
      "execution_count": null,
      "outputs": []
    },
    {
      "cell_type": "code",
      "source": [
        "y = pd.get_dummies(df['Sentiment']).values\n",
        "print('Shape of label tensor:', y.shape)"
      ],
      "metadata": {
        "colab": {
          "base_uri": "https://localhost:8080/"
        },
        "id": "E-PkRQbcp6PO",
        "outputId": "d16f9f0a-4f26-44e0-d59e-88731fa8e2e2"
      },
      "execution_count": null,
      "outputs": [
        {
          "output_type": "stream",
          "name": "stdout",
          "text": [
            "Shape of label tensor: (400, 3)\n"
          ]
        }
      ]
    },
    {
      "cell_type": "code",
      "source": [
        "from sklearn.model_selection import KFold, cross_val_score, train_test_split\n",
        "X_train, X_test, y_train, y_test = train_test_split(X,y, test_size = 0.10, random_state = 42)\n",
        "print(X_train.shape,y_train.shape)\n",
        "print(X_test.shape,y_test.shape)"
      ],
      "metadata": {
        "colab": {
          "base_uri": "https://localhost:8080/"
        },
        "id": "jbz8k-tqqCZI",
        "outputId": "67bb8734-cd70-4da5-ed1a-0fc0d8b22f8d"
      },
      "execution_count": null,
      "outputs": [
        {
          "output_type": "stream",
          "name": "stdout",
          "text": [
            "(360, 250) (360, 3)\n",
            "(40, 250) (40, 3)\n"
          ]
        }
      ]
    },
    {
      "cell_type": "code",
      "source": [
        "from keras.models import Sequential\n",
        "from keras.layers import Embedding, SpatialDropout1D, LSTM, Dense\n",
        "\n",
        "model = Sequential()\n",
        "model.add(Embedding(MAX_NB_WORDS, EMBEDDING_DIM, input_length=X.shape[1]))\n",
        "model.add(SpatialDropout1D(0.2))\n",
        "model.add(LSTM(100, dropout=0.2, recurrent_dropout=0.2))\n",
        "model.add(Dense(3, activation='softmax'))\n",
        "model.compile(loss='categorical_crossentropy', optimizer='adam', metrics=['accuracy'])\n",
        "\n",
        "\n",
        "history = model.fit(X_train, y_train, validation_split=0.2, epochs=10)"
      ],
      "metadata": {
        "colab": {
          "base_uri": "https://localhost:8080/"
        },
        "id": "WopVnJN8o790",
        "outputId": "490e1a0b-f859-429c-f8fc-50c4b5a01732"
      },
      "execution_count": null,
      "outputs": [
        {
          "output_type": "stream",
          "name": "stdout",
          "text": [
            "Epoch 1/10\n",
            "9/9 [==============================] - 6s 488ms/step - loss: 1.0688 - accuracy: 0.4444 - val_loss: 1.0388 - val_accuracy: 0.4028\n",
            "Epoch 2/10\n",
            "9/9 [==============================] - 3s 328ms/step - loss: 0.9538 - accuracy: 0.4861 - val_loss: 0.9889 - val_accuracy: 0.5000\n",
            "Epoch 3/10\n",
            "9/9 [==============================] - 3s 330ms/step - loss: 0.9075 - accuracy: 0.7188 - val_loss: 0.9691 - val_accuracy: 0.4861\n",
            "Epoch 4/10\n",
            "9/9 [==============================] - 3s 342ms/step - loss: 0.8204 - accuracy: 0.6667 - val_loss: 0.9194 - val_accuracy: 0.6944\n",
            "Epoch 5/10\n",
            "9/9 [==============================] - 3s 332ms/step - loss: 0.6564 - accuracy: 0.7917 - val_loss: 0.9337 - val_accuracy: 0.6250\n",
            "Epoch 6/10\n",
            "9/9 [==============================] - 3s 328ms/step - loss: 0.4511 - accuracy: 0.8958 - val_loss: 0.7082 - val_accuracy: 0.7500\n",
            "Epoch 7/10\n",
            "9/9 [==============================] - 3s 331ms/step - loss: 0.2625 - accuracy: 0.8924 - val_loss: 0.7293 - val_accuracy: 0.6806\n",
            "Epoch 8/10\n",
            "9/9 [==============================] - 3s 330ms/step - loss: 0.1903 - accuracy: 0.9618 - val_loss: 0.6661 - val_accuracy: 0.7222\n",
            "Epoch 9/10\n",
            "9/9 [==============================] - 4s 459ms/step - loss: 0.1625 - accuracy: 0.9861 - val_loss: 0.6680 - val_accuracy: 0.7083\n",
            "Epoch 10/10\n",
            "9/9 [==============================] - 3s 327ms/step - loss: 0.1111 - accuracy: 0.9861 - val_loss: 0.6359 - val_accuracy: 0.7222\n"
          ]
        }
      ]
    },
    {
      "cell_type": "code",
      "source": [
        "import matplotlib.pyplot as plt\n",
        "\n",
        "plt.plot(history.history['loss'], label='train')\n",
        "plt.title('Error Training')\n",
        "plt.ylabel('Loss')\n",
        "plt.xlabel('Pembelajaran (Epochs)')\n",
        "plt.legend()\n",
        "plt.show()"
      ],
      "metadata": {
        "colab": {
          "base_uri": "https://localhost:8080/",
          "height": 295
        },
        "id": "ZvD-lb7YsQO6",
        "outputId": "7f6d00a6-036f-461f-9c00-ad29fb928366"
      },
      "execution_count": null,
      "outputs": [
        {
          "output_type": "display_data",
          "data": {
            "text/plain": [
              "<Figure size 432x288 with 1 Axes>"
            ],
            "image/png": "[encoded data removed]"
          },
          "metadata": {
            "needs_background": "light"
          }
        }
      ]
    },
    {
      "cell_type": "code",
      "source": [
        "import matplotlib.pyplot as plt\n",
        "\n",
        "plt.plot(history.history['accuracy'], label='train')\n",
        "plt.title('Accuracy Training')\n",
        "plt.ylabel('Loss')\n",
        "plt.xlabel('Pembelajaran (Epochs)')\n",
        "plt.legend()\n",
        "plt.show()"
      ],
      "metadata": {
        "colab": {
          "base_uri": "https://localhost:8080/",
          "height": 295
        },
        "id": "iu8vp5NlsSkk",
        "outputId": "77e82bbb-6ecb-4225-c69d-0bf88bba8e46"
      },
      "execution_count": null,
      "outputs": [
        {
          "output_type": "display_data",
          "data": {
            "text/plain": [
              "<Figure size 432x288 with 1 Axes>"
            ],
            "image/png": "[encoded data removed]"
          },
          "metadata": {
            "needs_background": "light"
          }
        }
      ]
    },
    {
      "cell_type": "code",
      "source": [
        "y_nn = model.predict(X_test)\n",
        "y_nn[:5]"
      ],
      "metadata": {
        "colab": {
          "base_uri": "https://localhost:8080/"
        },
        "id": "EHEOrlNuspLn",
        "outputId": "9f8d4caa-fca4-41d1-c884-c26dfb2befb6"
      },
      "execution_count": null,
      "outputs": [
        {
          "output_type": "execute_result",
          "data": {
            "text/plain": [
              "array([[0.02243464, 0.01237981, 0.9651855 ],\n",
              "       [0.8786111 , 0.05287518, 0.06851366],\n",
              "       [0.00683273, 0.00749748, 0.9856698 ],\n",
              "       [0.78414035, 0.02945372, 0.18640593],\n",
              "       [0.18637797, 0.03854134, 0.77508074]], dtype=float32)"
            ]
          },
          "metadata": {},
          "execution_count": 62
        }
      ]
    },
    {
      "cell_type": "code",
      "source": [
        "testing = model.evaluate(X_test,y_test,verbose=1)"
      ],
      "metadata": {
        "colab": {
          "base_uri": "https://localhost:8080/"
        },
        "id": "p4df6n96sxCd",
        "outputId": "a0762cb8-5d0a-43ec-c596-38e72aa4f886"
      },
      "execution_count": null,
      "outputs": [
        {
          "output_type": "stream",
          "name": "stdout",
          "text": [
            "2/2 [==============================] - 0s 31ms/step - loss: 0.7291 - accuracy: 0.6250\n"
          ]
        }
      ]
    },
    {
      "cell_type": "code",
      "source": [
        "testing"
      ],
      "metadata": {
        "colab": {
          "base_uri": "https://localhost:8080/"
        },
        "id": "Z5mJI0EIs2_c",
        "outputId": "3962d6b7-b922-4988-bb59-bff7417b9e20"
      },
      "execution_count": null,
      "outputs": [
        {
          "output_type": "execute_result",
          "data": {
            "text/plain": [
              "[0.7291103601455688, 0.625]"
            ]
          },
          "metadata": {},
          "execution_count": 64
        }
      ]
    },
    {
      "cell_type": "code",
      "source": [
        "akurasi_nn = testing[1:2]"
      ],
      "metadata": {
        "id": "bt6sEVuqs6be"
      },
      "execution_count": null,
      "outputs": []
    },
    {
      "cell_type": "code",
      "source": [
        "print(\"Akurasi Neural Network: \",akurasi_nn)"
      ],
      "metadata": {
        "id": "x9eHp6yZs_nx",
        "outputId": "5ce05421-a905-4805-821b-50c807c1f82e",
        "colab": {
          "base_uri": "https://localhost:8080/"
        }
      },
      "execution_count": null,
      "outputs": [
        {
          "output_type": "stream",
          "name": "stdout",
          "text": [
            "Akurasi Neural Network:  [0.625]\n"
          ]
        }
      ]
    },
    {
      "cell_type": "markdown",
      "source": [
        "# Consulation"
      ],
      "metadata": {
        "id": "P3uzAqDUDSxJ"
      }
    },
    {
      "cell_type": "markdown",
      "source": [
        "Model | Akurasi Model\n",
        "--|--\n",
        "Logistic Regression | 71,25%\n",
        "Decision Tree | 66,25%\n",
        "Random Forest | 66,25%\n",
        "Neural Network |62,50%\n",
        "\n",
        "\n"
      ],
      "metadata": {
        "id": "MZoMEDr1DJZy"
      }
    }
  ]
}