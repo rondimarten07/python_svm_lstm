{
  "nbformat": 4,
  "nbformat_minor": 0,
  "metadata": {
    "colab": {
      "provenance": []
    },
    "kernelspec": {
      "name": "python3",
      "display_name": "Python 3"
    },
    "language_info": {
      "name": "python"
    }
  },
  "cells": [
    {
      "cell_type": "code",
      "execution_count": null,
      "metadata": {
        "colab": {
          "base_uri": "https://localhost:8080/"
        },
        "id": "hlznP5Gq6_2_",
        "outputId": "7f1ab005-0e64-4bb5-b05c-6c4b52464f8b"
      },
      "outputs": [
        {
          "output_type": "stream",
          "name": "stdout",
          "text": [
            "Mounted at /content/drive\n"
          ]
        }
      ],
      "source": [
        "#BACA DARI GOOGLE DRIVE\n",
        "from google.colab import drive\n",
        "drive.mount('/content/drive')"
      ]
    },
    {
      "cell_type": "code",
      "source": [
        "#import library pandas\n",
        "import pandas as pd\n",
        "#baca file data set tv\n",
        "df = pd.read_csv(\"/content/drive/My Drive/Dataset/dataset_tv.csv\")"
      ],
      "metadata": {
        "id": "8CprXQgC7PAz"
      },
      "execution_count": null,
      "outputs": []
    },
    {
      "cell_type": "code",
      "source": [
        "#cetak 4 data terakhir\n",
        "df.head(4)"
      ],
      "metadata": {
        "colab": {
          "base_uri": "https://localhost:8080/",
          "height": 175
        },
        "id": "rHlftK7H7VMp",
        "outputId": "735057b5-e839-4418-8158-d57552f9e074"
      },
      "execution_count": null,
      "outputs": [
        {
          "output_type": "execute_result",
          "data": {
            "text/plain": [
              "   Id Sentiment           Acara_TV  Jumlah Retweet  \\\n",
              "0   1  positive  HitamPutihTransTV              12   \n",
              "1   2   neutral  HitamPutihTransTV               6   \n",
              "2   3  positive  HitamPutihTransTV               9   \n",
              "3   4  positive  HitamPutihTransTV               2   \n",
              "\n",
              "                                          Text_Tweet  \n",
              "0  This black and white television program is ver...  \n",
              "1                                      just the same  \n",
              "2  Ada nih di trans7 hitam putih, dia dpt penghar...  \n",
              "3        selamat ya mas @adietaufan masuk hitamputih  "
            ],
            "text/html": [
              "\n",
              "  <div id=\"df-0f69bdd2-96d6-4fb9-8c0f-40c988b56414\">\n",
              "    <div class=\"colab-df-container\">\n",
              "      <div>\n",
              "<style scoped>\n",
              "    .dataframe tbody tr th:only-of-type {\n",
              "        vertical-align: middle;\n",
              "    }\n",
              "\n",
              "    .dataframe tbody tr th {\n",
              "        vertical-align: top;\n",
              "    }\n",
              "\n",
              "    .dataframe thead th {\n",
              "        text-align: right;\n",
              "    }\n",
              "</style>\n",
              "<table border=\"1\" class=\"dataframe\">\n",
              "  <thead>\n",
              "    <tr style=\"text-align: right;\">\n",
              "      <th></th>\n",
              "      <th>Id</th>\n",
              "      <th>Sentiment</th>\n",
              "      <th>Acara_TV</th>\n",
              "      <th>Jumlah Retweet</th>\n",
              "      <th>Text_Tweet</th>\n",
              "    </tr>\n",
              "  </thead>\n",
              "  <tbody>\n",
              "    <tr>\n",
              "      <th>0</th>\n",
              "      <td>1</td>\n",
              "      <td>positive</td>\n",
              "      <td>HitamPutihTransTV</td>\n",
              "      <td>12</td>\n",
              "      <td>This black and white television program is ver...</td>\n",
              "    </tr>\n",
              "    <tr>\n",
              "      <th>1</th>\n",
              "      <td>2</td>\n",
              "      <td>neutral</td>\n",
              "      <td>HitamPutihTransTV</td>\n",
              "      <td>6</td>\n",
              "      <td>just the same</td>\n",
              "    </tr>\n",
              "    <tr>\n",
              "      <th>2</th>\n",
              "      <td>3</td>\n",
              "      <td>positive</td>\n",
              "      <td>HitamPutihTransTV</td>\n",
              "      <td>9</td>\n",
              "      <td>Ada nih di trans7 hitam putih, dia dpt penghar...</td>\n",
              "    </tr>\n",
              "    <tr>\n",
              "      <th>3</th>\n",
              "      <td>4</td>\n",
              "      <td>positive</td>\n",
              "      <td>HitamPutihTransTV</td>\n",
              "      <td>2</td>\n",
              "      <td>selamat ya mas @adietaufan masuk hitamputih</td>\n",
              "    </tr>\n",
              "  </tbody>\n",
              "</table>\n",
              "</div>\n",
              "      <button class=\"colab-df-convert\" onclick=\"convertToInteractive('df-0f69bdd2-96d6-4fb9-8c0f-40c988b56414')\"\n",
              "              title=\"Convert this dataframe to an interactive table.\"\n",
              "              style=\"display:none;\">\n",
              "        \n",
              "  <svg xmlns=\"http://www.w3.org/2000/svg\" height=\"24px\"viewBox=\"0 0 24 24\"\n",
              "       width=\"24px\">\n",
              "    <path d=\"M0 0h24v24H0V0z\" fill=\"none\"/>\n",
              "    <path d=\"M18.56 5.44l.94 2.06.94-2.06 2.06-.94-2.06-.94-.94-2.06-.94 2.06-2.06.94zm-11 1L8.5 8.5l.94-2.06 2.06-.94-2.06-.94L8.5 2.5l-.94 2.06-2.06.94zm10 10l.94 2.06.94-2.06 2.06-.94-2.06-.94-.94-2.06-.94 2.06-2.06.94z\"/><path d=\"M17.41 7.96l-1.37-1.37c-.4-.4-.92-.59-1.43-.59-.52 0-1.04.2-1.43.59L10.3 9.45l-7.72 7.72c-.78.78-.78 2.05 0 2.83L4 21.41c.39.39.9.59 1.41.59.51 0 1.02-.2 1.41-.59l7.78-7.78 2.81-2.81c.8-.78.8-2.07 0-2.86zM5.41 20L4 18.59l7.72-7.72 1.47 1.35L5.41 20z\"/>\n",
              "  </svg>\n",
              "      </button>\n",
              "      \n",
              "  <style>\n",
              "    .colab-df-container {\n",
              "      display:flex;\n",
              "      flex-wrap:wrap;\n",
              "      gap: 12px;\n",
              "    }\n",
              "\n",
              "    .colab-df-convert {\n",
              "      background-color: #E8F0FE;\n",
              "      border: none;\n",
              "      border-radius: 50%;\n",
              "      cursor: pointer;\n",
              "      display: none;\n",
              "      fill: #1967D2;\n",
              "      height: 32px;\n",
              "      padding: 0 0 0 0;\n",
              "      width: 32px;\n",
              "    }\n",
              "\n",
              "    .colab-df-convert:hover {\n",
              "      background-color: #E2EBFA;\n",
              "      box-shadow: 0px 1px 2px rgba(60, 64, 67, 0.3), 0px 1px 3px 1px rgba(60, 64, 67, 0.15);\n",
              "      fill: #174EA6;\n",
              "    }\n",
              "\n",
              "    [theme=dark] .colab-df-convert {\n",
              "      background-color: #3B4455;\n",
              "      fill: #D2E3FC;\n",
              "    }\n",
              "\n",
              "    [theme=dark] .colab-df-convert:hover {\n",
              "      background-color: #434B5C;\n",
              "      box-shadow: 0px 1px 3px 1px rgba(0, 0, 0, 0.15);\n",
              "      filter: drop-shadow(0px 1px 2px rgba(0, 0, 0, 0.3));\n",
              "      fill: #FFFFFF;\n",
              "    }\n",
              "  </style>\n",
              "\n",
              "      <script>\n",
              "        const buttonEl =\n",
              "          document.querySelector('#df-0f69bdd2-96d6-4fb9-8c0f-40c988b56414 button.colab-df-convert');\n",
              "        buttonEl.style.display =\n",
              "          google.colab.kernel.accessAllowed ? 'block' : 'none';\n",
              "\n",
              "        async function convertToInteractive(key) {\n",
              "          const element = document.querySelector('#df-0f69bdd2-96d6-4fb9-8c0f-40c988b56414');\n",
              "          const dataTable =\n",
              "            await google.colab.kernel.invokeFunction('convertToInteractive',\n",
              "                                                     [key], {});\n",
              "          if (!dataTable) return;\n",
              "\n",
              "          const docLinkHtml = 'Like what you see? Visit the ' +\n",
              "            '<a target=\"_blank\" href=https://colab.research.google.com/notebooks/data_table.ipynb>data table notebook</a>'\n",
              "            + ' to learn more about interactive tables.';\n",
              "          element.innerHTML = '';\n",
              "          dataTable['output_type'] = 'display_data';\n",
              "          await google.colab.output.renderOutput(dataTable, element);\n",
              "          const docLink = document.createElement('div');\n",
              "          docLink.innerHTML = docLinkHtml;\n",
              "          element.appendChild(docLink);\n",
              "        }\n",
              "      </script>\n",
              "    </div>\n",
              "  </div>\n",
              "  "
            ]
          },
          "metadata": {},
          "execution_count": 3
        }
      ]
    },
    {
      "cell_type": "code",
      "source": [
        "import nltk\n",
        "nltk.download('punkt')"
      ],
      "metadata": {
        "colab": {
          "base_uri": "https://localhost:8080/"
        },
        "id": "ZZtELJib7gTx",
        "outputId": "44b49564-02c3-4f5a-ca98-923db55ffef5"
      },
      "execution_count": null,
      "outputs": [
        {
          "output_type": "stream",
          "name": "stderr",
          "text": [
            "[nltk_data] Downloading package punkt to /root/nltk_data...\n",
            "[nltk_data]   Unzipping tokenizers/punkt.zip.\n"
          ]
        },
        {
          "output_type": "execute_result",
          "data": {
            "text/plain": [
              "True"
            ]
          },
          "metadata": {},
          "execution_count": 6
        }
      ]
    },
    {
      "cell_type": "code",
      "source": [
        "#PREPROCESSING\n",
        "import nltk #import library nltk untuk natural language toolkit\n",
        "import re #import library regex (regular expression)\n",
        "from nltk.stem import PorterStemmer #import library porter stemmer\n",
        "\n",
        "#panggil stemmer bahasa inggris\n",
        "ps = PorterStemmer()\n",
        "\n",
        "#fungsi untuk replace dengan regex. info detail: https://docs.python.org/3.2/library/re.html\n",
        "def replace(strs):\n",
        "    strs = re.sub(r'[^\\w\\s]','',strs)\n",
        "    return strs\n",
        "\n",
        "df['token'] = [i.lower() for i in df.Text_Tweet] #lowertext\n",
        "df['token'] = [replace(i) for i in df.token] #replace \\n \\t rt\n",
        "df['token'] = [nltk.word_tokenize(i) for i in df.token] #tokenize string\n",
        "df['token'] = [' '.join(ps.stem(y) for y in x) for x in df.token] #STEMMING\n",
        "df.head(3) #cetak 3 data pertama. data sudah diubah menjadi kata dasar"
      ],
      "metadata": {
        "colab": {
          "base_uri": "https://localhost:8080/",
          "height": 143
        },
        "id": "jS8Oq5Av8DJR",
        "outputId": "f93975a4-89c5-4d96-962a-85e42e24c24e"
      },
      "execution_count": null,
      "outputs": [
        {
          "output_type": "execute_result",
          "data": {
            "text/plain": [
              "   Id Sentiment           Acara_TV  Jumlah Retweet  \\\n",
              "0   1  positive  HitamPutihTransTV              12   \n",
              "1   2   neutral  HitamPutihTransTV               6   \n",
              "2   3  positive  HitamPutihTransTV               9   \n",
              "\n",
              "                                          Text_Tweet  \\\n",
              "0  This black and white television program is ver...   \n",
              "1                                      just the same   \n",
              "2  Ada nih di trans7 hitam putih, dia dpt penghar...   \n",
              "\n",
              "                                               token  \n",
              "0  thi black and white televis program is veri go...  \n",
              "1                                      just the same  \n",
              "2  ada nih di trans7 hitam putih dia dpt pengharg...  "
            ],
            "text/html": [
              "\n",
              "  <div id=\"df-34f6e0f1-fcf7-4207-b024-7685f1df7f3f\">\n",
              "    <div class=\"colab-df-container\">\n",
              "      <div>\n",
              "<style scoped>\n",
              "    .dataframe tbody tr th:only-of-type {\n",
              "        vertical-align: middle;\n",
              "    }\n",
              "\n",
              "    .dataframe tbody tr th {\n",
              "        vertical-align: top;\n",
              "    }\n",
              "\n",
              "    .dataframe thead th {\n",
              "        text-align: right;\n",
              "    }\n",
              "</style>\n",
              "<table border=\"1\" class=\"dataframe\">\n",
              "  <thead>\n",
              "    <tr style=\"text-align: right;\">\n",
              "      <th></th>\n",
              "      <th>Id</th>\n",
              "      <th>Sentiment</th>\n",
              "      <th>Acara_TV</th>\n",
              "      <th>Jumlah Retweet</th>\n",
              "      <th>Text_Tweet</th>\n",
              "      <th>token</th>\n",
              "    </tr>\n",
              "  </thead>\n",
              "  <tbody>\n",
              "    <tr>\n",
              "      <th>0</th>\n",
              "      <td>1</td>\n",
              "      <td>positive</td>\n",
              "      <td>HitamPutihTransTV</td>\n",
              "      <td>12</td>\n",
              "      <td>This black and white television program is ver...</td>\n",
              "      <td>thi black and white televis program is veri go...</td>\n",
              "    </tr>\n",
              "    <tr>\n",
              "      <th>1</th>\n",
              "      <td>2</td>\n",
              "      <td>neutral</td>\n",
              "      <td>HitamPutihTransTV</td>\n",
              "      <td>6</td>\n",
              "      <td>just the same</td>\n",
              "      <td>just the same</td>\n",
              "    </tr>\n",
              "    <tr>\n",
              "      <th>2</th>\n",
              "      <td>3</td>\n",
              "      <td>positive</td>\n",
              "      <td>HitamPutihTransTV</td>\n",
              "      <td>9</td>\n",
              "      <td>Ada nih di trans7 hitam putih, dia dpt penghar...</td>\n",
              "      <td>ada nih di trans7 hitam putih dia dpt pengharg...</td>\n",
              "    </tr>\n",
              "  </tbody>\n",
              "</table>\n",
              "</div>\n",
              "      <button class=\"colab-df-convert\" onclick=\"convertToInteractive('df-34f6e0f1-fcf7-4207-b024-7685f1df7f3f')\"\n",
              "              title=\"Convert this dataframe to an interactive table.\"\n",
              "              style=\"display:none;\">\n",
              "        \n",
              "  <svg xmlns=\"http://www.w3.org/2000/svg\" height=\"24px\"viewBox=\"0 0 24 24\"\n",
              "       width=\"24px\">\n",
              "    <path d=\"M0 0h24v24H0V0z\" fill=\"none\"/>\n",
              "    <path d=\"M18.56 5.44l.94 2.06.94-2.06 2.06-.94-2.06-.94-.94-2.06-.94 2.06-2.06.94zm-11 1L8.5 8.5l.94-2.06 2.06-.94-2.06-.94L8.5 2.5l-.94 2.06-2.06.94zm10 10l.94 2.06.94-2.06 2.06-.94-2.06-.94-.94-2.06-.94 2.06-2.06.94z\"/><path d=\"M17.41 7.96l-1.37-1.37c-.4-.4-.92-.59-1.43-.59-.52 0-1.04.2-1.43.59L10.3 9.45l-7.72 7.72c-.78.78-.78 2.05 0 2.83L4 21.41c.39.39.9.59 1.41.59.51 0 1.02-.2 1.41-.59l7.78-7.78 2.81-2.81c.8-.78.8-2.07 0-2.86zM5.41 20L4 18.59l7.72-7.72 1.47 1.35L5.41 20z\"/>\n",
              "  </svg>\n",
              "      </button>\n",
              "      \n",
              "  <style>\n",
              "    .colab-df-container {\n",
              "      display:flex;\n",
              "      flex-wrap:wrap;\n",
              "      gap: 12px;\n",
              "    }\n",
              "\n",
              "    .colab-df-convert {\n",
              "      background-color: #E8F0FE;\n",
              "      border: none;\n",
              "      border-radius: 50%;\n",
              "      cursor: pointer;\n",
              "      display: none;\n",
              "      fill: #1967D2;\n",
              "      height: 32px;\n",
              "      padding: 0 0 0 0;\n",
              "      width: 32px;\n",
              "    }\n",
              "\n",
              "    .colab-df-convert:hover {\n",
              "      background-color: #E2EBFA;\n",
              "      box-shadow: 0px 1px 2px rgba(60, 64, 67, 0.3), 0px 1px 3px 1px rgba(60, 64, 67, 0.15);\n",
              "      fill: #174EA6;\n",
              "    }\n",
              "\n",
              "    [theme=dark] .colab-df-convert {\n",
              "      background-color: #3B4455;\n",
              "      fill: #D2E3FC;\n",
              "    }\n",
              "\n",
              "    [theme=dark] .colab-df-convert:hover {\n",
              "      background-color: #434B5C;\n",
              "      box-shadow: 0px 1px 3px 1px rgba(0, 0, 0, 0.15);\n",
              "      filter: drop-shadow(0px 1px 2px rgba(0, 0, 0, 0.3));\n",
              "      fill: #FFFFFF;\n",
              "    }\n",
              "  </style>\n",
              "\n",
              "      <script>\n",
              "        const buttonEl =\n",
              "          document.querySelector('#df-34f6e0f1-fcf7-4207-b024-7685f1df7f3f button.colab-df-convert');\n",
              "        buttonEl.style.display =\n",
              "          google.colab.kernel.accessAllowed ? 'block' : 'none';\n",
              "\n",
              "        async function convertToInteractive(key) {\n",
              "          const element = document.querySelector('#df-34f6e0f1-fcf7-4207-b024-7685f1df7f3f');\n",
              "          const dataTable =\n",
              "            await google.colab.kernel.invokeFunction('convertToInteractive',\n",
              "                                                     [key], {});\n",
              "          if (!dataTable) return;\n",
              "\n",
              "          const docLinkHtml = 'Like what you see? Visit the ' +\n",
              "            '<a target=\"_blank\" href=https://colab.research.google.com/notebooks/data_table.ipynb>data table notebook</a>'\n",
              "            + ' to learn more about interactive tables.';\n",
              "          element.innerHTML = '';\n",
              "          dataTable['output_type'] = 'display_data';\n",
              "          await google.colab.output.renderOutput(dataTable, element);\n",
              "          const docLink = document.createElement('div');\n",
              "          docLink.innerHTML = docLinkHtml;\n",
              "          element.appendChild(docLink);\n",
              "        }\n",
              "      </script>\n",
              "    </div>\n",
              "  </div>\n",
              "  "
            ]
          },
          "metadata": {},
          "execution_count": 8
        }
      ]
    },
    {
      "cell_type": "code",
      "source": [
        "#panggil model train_test_split untuk memisahkan data training dan testing\n",
        "from sklearn.model_selection import train_test_split\n",
        "#panggil feature extraction Count Vectorizer\n",
        "from sklearn.feature_extraction.text import CountVectorizer\n",
        "#panggil feature extraction TF/IDF\n",
        "from sklearn.feature_extraction.text import TfidfVectorizer"
      ],
      "metadata": {
        "id": "jsq_lyaP8sQp"
      },
      "execution_count": null,
      "outputs": []
    },
    {
      "cell_type": "code",
      "source": [
        "#split data menjadi data training dan testing, size training 80% sisanya testing\n",
        "train_data, test_data = train_test_split(df, train_size=0.8,random_state=74)\n",
        "#vectorizer kita panggil\n",
        "vectorizer = CountVectorizer()\n",
        "#fill null dengan ' '\n",
        "X_train = vectorizer.fit_transform(train_data['token'].fillna(' '))\n",
        "#label nya ambil dari column category\n",
        "y_train = train_data['Sentiment']\n",
        "#fill null dengan ' ' kemudian di fit transform\n",
        "X_test = vectorizer.transform(test_data['token'].fillna(' '))\n",
        "y_test = test_data['Sentiment']"
      ],
      "metadata": {
        "id": "6dcFSCZp8thL"
      },
      "execution_count": null,
      "outputs": []
    },
    {
      "cell_type": "code",
      "source": [
        "#TF IDF\n",
        "vectorizer_tf_idf = TfidfVectorizer()\n",
        "X_train_tf_idf = vectorizer_tf_idf.fit_transform(train_data['token'].fillna(' '))\n",
        "X_test_tf_idf = vectorizer_tf_idf.transform(test_data['token'].fillna(' '))"
      ],
      "metadata": {
        "id": "oqvUzcjk82Ry"
      },
      "execution_count": null,
      "outputs": []
    },
    {
      "cell_type": "code",
      "source": [
        "from sklearn.naive_bayes import GaussianNB\n",
        "from sklearn.metrics import classification_report\n",
        "from sklearn.metrics import confusion_matrix, classification_report\n",
        "\n",
        "#Model Naive Bayes\n",
        "gnb = GaussianNB()\n",
        "#training data\n",
        "gnb = gnb.fit(X_train.toarray(),y_train)\n",
        "#prediksi\n",
        "hasil_gnb = gnb.predict(X_test.toarray())\n",
        "#evaluasi performance dengan Confusion Matrix\n",
        "confusion_matrix(hasil_gnb, y_test)\n",
        "#cetak report\n",
        "print(classification_report(hasil_gnb, y_test))"
      ],
      "metadata": {
        "colab": {
          "base_uri": "https://localhost:8080/"
        },
        "id": "GEeGY_L0848c",
        "outputId": "f65a5361-4635-4265-f77e-9803d3a5ff11"
      },
      "execution_count": null,
      "outputs": [
        {
          "output_type": "stream",
          "name": "stdout",
          "text": [
            "              precision    recall  f1-score   support\n",
            "\n",
            "    negative       0.61      0.79      0.69        28\n",
            "     neutral       0.45      0.38      0.42        13\n",
            "    positive       0.85      0.72      0.78        39\n",
            "\n",
            "    accuracy                           0.69        80\n",
            "   macro avg       0.64      0.63      0.63        80\n",
            "weighted avg       0.70      0.69      0.69        80\n",
            "\n"
          ]
        }
      ]
    }
  ]
}